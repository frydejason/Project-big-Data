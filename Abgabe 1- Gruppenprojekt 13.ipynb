{
 "cells": [
  {
   "cell_type": "markdown",
   "metadata": {},
   "source": [
    "# Abgabe 1 - Gruppenprojekt 13"
   ]
  },
  {
   "cell_type": "markdown",
   "metadata": {},
   "source": [
    "## 1. Fragestellung entwicklen und daten aufbereiten"
   ]
  },
  {
   "cell_type": "markdown",
   "metadata": {},
   "source": [
    "### Fragestellung"
   ]
  },
  {
   "cell_type": "markdown",
   "metadata": {},
   "source": [
    "#### Als Fragestellung haben wir uns entschieden für:\n",
    "#### -Inwiefern beeinflussen demografische Merkmale wie Alter und Geschlecht das Kaufverhalten von Kunden in verschiedenen Produktkategorien?\n",
    "#### -Wie beeinflussen verschiedene Faktoren wie Alter, Geschlecht, farben,  Saison und Bewertung die Kaufentscheidungen von Kunden?"
   ]
  },
  {
   "cell_type": "markdown",
   "metadata": {},
   "source": [
    "### Hypothesen\n",
    "Weibliche Kunden zeigen eine höhere Präferenz für Kleidungskäufe im Vergleich zu männlichen Kunden.\n",
    "Kunden, die von Aktionsrabatten profitieren, geben tendenziell mehr aus als Kunden, die keine Rabatte erhalten.\n",
    "Kunden mit Abonnentenstatus kaufen häufiger ein als Kunden ohne Abonnentenstatus.\n",
    "- Ältere Kunden geben tendenziell mehr Geld aus als jüngere Kunden.\n",
    "- Kunden, die in wärmeren Jahreszeiten kaufen, geben im Durchschnitt weniger aus als Kunden, die in kälteren Jahreszeiten kaufen."
   ]
  },
  {
   "cell_type": "markdown",
   "metadata": {},
   "source": [
    "#### Hier sind unsere Hypothesen: \n",
    "#### \n"
   ]
  },
  {
   "cell_type": "code",
   "execution_count": 3,
   "metadata": {},
   "outputs": [],
   "source": [
    "import pandas as pd\n",
    "from sklearn.preprocessing import StandardScaler\n",
    "from sklearn.impute import SimpleImputer\n",
    "import matplotlib.pyplot as plt\n",
    "import numpy as np\n",
    "from scipy.stats import chi2_contingency\n",
    "import seaborn as sns"
   ]
  },
  {
   "cell_type": "markdown",
   "metadata": {},
   "source": [
    "## Daten laden"
   ]
  },
  {
   "cell_type": "code",
   "execution_count": 4,
   "metadata": {},
   "outputs": [
    {
     "data": {
      "text/html": [
       "<div>\n",
       "<style scoped>\n",
       "    .dataframe tbody tr th:only-of-type {\n",
       "        vertical-align: middle;\n",
       "    }\n",
       "\n",
       "    .dataframe tbody tr th {\n",
       "        vertical-align: top;\n",
       "    }\n",
       "\n",
       "    .dataframe thead th {\n",
       "        text-align: right;\n",
       "    }\n",
       "</style>\n",
       "<table border=\"1\" class=\"dataframe\">\n",
       "  <thead>\n",
       "    <tr style=\"text-align: right;\">\n",
       "      <th></th>\n",
       "      <th>CustomerID</th>\n",
       "      <th>Age</th>\n",
       "      <th>Gender</th>\n",
       "      <th>ItemPurchased</th>\n",
       "      <th>Category</th>\n",
       "      <th>PurchaseAmountUSD</th>\n",
       "      <th>Location</th>\n",
       "      <th>Size</th>\n",
       "      <th>Color</th>\n",
       "      <th>Season</th>\n",
       "      <th>ReviewRating</th>\n",
       "      <th>SubscriptionStatus</th>\n",
       "      <th>ShippingType</th>\n",
       "      <th>DiscountApplied</th>\n",
       "      <th>PromoCodeUsed</th>\n",
       "      <th>PreviousPurchases</th>\n",
       "      <th>PaymentMethod</th>\n",
       "      <th>FrequencyofPurchases</th>\n",
       "    </tr>\n",
       "  </thead>\n",
       "  <tbody>\n",
       "    <tr>\n",
       "      <th>0</th>\n",
       "      <td>1.0</td>\n",
       "      <td>55</td>\n",
       "      <td>Male</td>\n",
       "      <td>Blouse</td>\n",
       "      <td>Clothing</td>\n",
       "      <td>53.0</td>\n",
       "      <td>Kentucky</td>\n",
       "      <td>L</td>\n",
       "      <td>Gray</td>\n",
       "      <td>Winter</td>\n",
       "      <td>3.1</td>\n",
       "      <td>Yes</td>\n",
       "      <td>Express</td>\n",
       "      <td>Yes</td>\n",
       "      <td>Yes</td>\n",
       "      <td>14</td>\n",
       "      <td>Venmo</td>\n",
       "      <td>Fortnightly</td>\n",
       "    </tr>\n",
       "    <tr>\n",
       "      <th>1</th>\n",
       "      <td>2.0</td>\n",
       "      <td>19</td>\n",
       "      <td>Male</td>\n",
       "      <td>Sweater</td>\n",
       "      <td>Clothing</td>\n",
       "      <td>64.0</td>\n",
       "      <td>Maine</td>\n",
       "      <td>L</td>\n",
       "      <td>Maroon</td>\n",
       "      <td>Winter</td>\n",
       "      <td>3.1</td>\n",
       "      <td>Yes</td>\n",
       "      <td>Express</td>\n",
       "      <td>Yes</td>\n",
       "      <td>Yes</td>\n",
       "      <td>2</td>\n",
       "      <td>Cash</td>\n",
       "      <td>Fortnightly</td>\n",
       "    </tr>\n",
       "    <tr>\n",
       "      <th>2</th>\n",
       "      <td>6.0</td>\n",
       "      <td>46</td>\n",
       "      <td>Male</td>\n",
       "      <td>Sneakers</td>\n",
       "      <td>Footwear</td>\n",
       "      <td>20.0</td>\n",
       "      <td>Wyoming</td>\n",
       "      <td>M</td>\n",
       "      <td>White</td>\n",
       "      <td>Summer</td>\n",
       "      <td>2.9</td>\n",
       "      <td>Yes</td>\n",
       "      <td>Standard</td>\n",
       "      <td>Yes</td>\n",
       "      <td>Yes</td>\n",
       "      <td>14</td>\n",
       "      <td>Venmo</td>\n",
       "      <td>Weekly</td>\n",
       "    </tr>\n",
       "    <tr>\n",
       "      <th>3</th>\n",
       "      <td>7.0</td>\n",
       "      <td>63</td>\n",
       "      <td>Male</td>\n",
       "      <td>Shirt</td>\n",
       "      <td>Clothing</td>\n",
       "      <td>85.0</td>\n",
       "      <td>Montana</td>\n",
       "      <td>M</td>\n",
       "      <td>Gray</td>\n",
       "      <td>Fall</td>\n",
       "      <td>3.2</td>\n",
       "      <td>Yes</td>\n",
       "      <td>Free Shipping</td>\n",
       "      <td>Yes</td>\n",
       "      <td>Yes</td>\n",
       "      <td>49</td>\n",
       "      <td>Cash</td>\n",
       "      <td>Quarterly</td>\n",
       "    </tr>\n",
       "    <tr>\n",
       "      <th>4</th>\n",
       "      <td>8.0</td>\n",
       "      <td>27</td>\n",
       "      <td>Male</td>\n",
       "      <td>Shorts</td>\n",
       "      <td>Clothing</td>\n",
       "      <td>34.0</td>\n",
       "      <td>Louisiana</td>\n",
       "      <td>L</td>\n",
       "      <td>Charcoal</td>\n",
       "      <td>Winter</td>\n",
       "      <td>3.2</td>\n",
       "      <td>Yes</td>\n",
       "      <td>Free Shipping</td>\n",
       "      <td>Yes</td>\n",
       "      <td>Yes</td>\n",
       "      <td>19</td>\n",
       "      <td>Credit Card</td>\n",
       "      <td>Weekly</td>\n",
       "    </tr>\n",
       "    <tr>\n",
       "      <th>...</th>\n",
       "      <td>...</td>\n",
       "      <td>...</td>\n",
       "      <td>...</td>\n",
       "      <td>...</td>\n",
       "      <td>...</td>\n",
       "      <td>...</td>\n",
       "      <td>...</td>\n",
       "      <td>...</td>\n",
       "      <td>...</td>\n",
       "      <td>...</td>\n",
       "      <td>...</td>\n",
       "      <td>...</td>\n",
       "      <td>...</td>\n",
       "      <td>...</td>\n",
       "      <td>...</td>\n",
       "      <td>...</td>\n",
       "      <td>...</td>\n",
       "      <td>...</td>\n",
       "    </tr>\n",
       "    <tr>\n",
       "      <th>1281</th>\n",
       "      <td>3881.0</td>\n",
       "      <td>42</td>\n",
       "      <td>Female</td>\n",
       "      <td>Shirt</td>\n",
       "      <td>Clothing</td>\n",
       "      <td>20.0</td>\n",
       "      <td>Massachusetts</td>\n",
       "      <td>M</td>\n",
       "      <td>Red</td>\n",
       "      <td>Winter</td>\n",
       "      <td>3.9</td>\n",
       "      <td>No</td>\n",
       "      <td>Free Shipping</td>\n",
       "      <td>No</td>\n",
       "      <td>No</td>\n",
       "      <td>40</td>\n",
       "      <td>PayPal</td>\n",
       "      <td>Monthly</td>\n",
       "    </tr>\n",
       "    <tr>\n",
       "      <th>1282</th>\n",
       "      <td>3882.0</td>\n",
       "      <td>56</td>\n",
       "      <td>Female</td>\n",
       "      <td>Scarf</td>\n",
       "      <td>Accessories</td>\n",
       "      <td>25.0</td>\n",
       "      <td>Georgia</td>\n",
       "      <td>L</td>\n",
       "      <td>Silver</td>\n",
       "      <td>Spring</td>\n",
       "      <td>2.8</td>\n",
       "      <td>No</td>\n",
       "      <td>2-Day Shipping</td>\n",
       "      <td>No</td>\n",
       "      <td>No</td>\n",
       "      <td>17</td>\n",
       "      <td>Debit Card</td>\n",
       "      <td>Weekly</td>\n",
       "    </tr>\n",
       "    <tr>\n",
       "      <th>1283</th>\n",
       "      <td>3888.0</td>\n",
       "      <td>40</td>\n",
       "      <td>Female</td>\n",
       "      <td>Shirt</td>\n",
       "      <td>Clothing</td>\n",
       "      <td>34.0</td>\n",
       "      <td>Kansas</td>\n",
       "      <td>M</td>\n",
       "      <td>Charcoal</td>\n",
       "      <td>Spring</td>\n",
       "      <td>2.7</td>\n",
       "      <td>No</td>\n",
       "      <td>Express</td>\n",
       "      <td>No</td>\n",
       "      <td>No</td>\n",
       "      <td>1</td>\n",
       "      <td>Credit Card</td>\n",
       "      <td>Quarterly</td>\n",
       "    </tr>\n",
       "    <tr>\n",
       "      <th>1284</th>\n",
       "      <td>3892.0</td>\n",
       "      <td>36</td>\n",
       "      <td>Female</td>\n",
       "      <td>Dress</td>\n",
       "      <td>Clothing</td>\n",
       "      <td>30.0</td>\n",
       "      <td>Colorado</td>\n",
       "      <td>L</td>\n",
       "      <td>Peach</td>\n",
       "      <td>Winter</td>\n",
       "      <td>4.7</td>\n",
       "      <td>No</td>\n",
       "      <td>Free Shipping</td>\n",
       "      <td>No</td>\n",
       "      <td>No</td>\n",
       "      <td>6</td>\n",
       "      <td>Bank Transfer</td>\n",
       "      <td>Quarterly</td>\n",
       "    </tr>\n",
       "    <tr>\n",
       "      <th>1285</th>\n",
       "      <td>3895.0</td>\n",
       "      <td>66</td>\n",
       "      <td>Female</td>\n",
       "      <td>Skirt</td>\n",
       "      <td>Clothing</td>\n",
       "      <td>78.0</td>\n",
       "      <td>Connecticut</td>\n",
       "      <td>L</td>\n",
       "      <td>White</td>\n",
       "      <td>Spring</td>\n",
       "      <td>3.9</td>\n",
       "      <td>No</td>\n",
       "      <td>2-Day Shipping</td>\n",
       "      <td>No</td>\n",
       "      <td>No</td>\n",
       "      <td>44</td>\n",
       "      <td>Credit Card</td>\n",
       "      <td>Every 3 Months</td>\n",
       "    </tr>\n",
       "  </tbody>\n",
       "</table>\n",
       "<p>1286 rows × 18 columns</p>\n",
       "</div>"
      ],
      "text/plain": [
       "      CustomerID  Age  Gender ItemPurchased     Category  PurchaseAmountUSD  \\\n",
       "0            1.0   55    Male        Blouse     Clothing               53.0   \n",
       "1            2.0   19    Male       Sweater     Clothing               64.0   \n",
       "2            6.0   46    Male      Sneakers     Footwear               20.0   \n",
       "3            7.0   63    Male         Shirt     Clothing               85.0   \n",
       "4            8.0   27    Male        Shorts     Clothing               34.0   \n",
       "...          ...  ...     ...           ...          ...                ...   \n",
       "1281      3881.0   42  Female         Shirt     Clothing               20.0   \n",
       "1282      3882.0   56  Female         Scarf  Accessories               25.0   \n",
       "1283      3888.0   40  Female         Shirt     Clothing               34.0   \n",
       "1284      3892.0   36  Female         Dress     Clothing               30.0   \n",
       "1285      3895.0   66  Female         Skirt     Clothing               78.0   \n",
       "\n",
       "           Location Size     Color  Season  ReviewRating SubscriptionStatus  \\\n",
       "0          Kentucky    L      Gray  Winter           3.1                Yes   \n",
       "1             Maine    L    Maroon  Winter           3.1                Yes   \n",
       "2           Wyoming    M     White  Summer           2.9                Yes   \n",
       "3           Montana    M      Gray    Fall           3.2                Yes   \n",
       "4         Louisiana    L  Charcoal  Winter           3.2                Yes   \n",
       "...             ...  ...       ...     ...           ...                ...   \n",
       "1281  Massachusetts    M       Red  Winter           3.9                 No   \n",
       "1282        Georgia    L    Silver  Spring           2.8                 No   \n",
       "1283         Kansas    M  Charcoal  Spring           2.7                 No   \n",
       "1284       Colorado    L     Peach  Winter           4.7                 No   \n",
       "1285    Connecticut    L     White  Spring           3.9                 No   \n",
       "\n",
       "        ShippingType DiscountApplied PromoCodeUsed  PreviousPurchases  \\\n",
       "0            Express             Yes           Yes                 14   \n",
       "1            Express             Yes           Yes                  2   \n",
       "2           Standard             Yes           Yes                 14   \n",
       "3      Free Shipping             Yes           Yes                 49   \n",
       "4      Free Shipping             Yes           Yes                 19   \n",
       "...              ...             ...           ...                ...   \n",
       "1281   Free Shipping              No            No                 40   \n",
       "1282  2-Day Shipping              No            No                 17   \n",
       "1283         Express              No            No                  1   \n",
       "1284   Free Shipping              No            No                  6   \n",
       "1285  2-Day Shipping              No            No                 44   \n",
       "\n",
       "      PaymentMethod FrequencyofPurchases  \n",
       "0             Venmo          Fortnightly  \n",
       "1              Cash          Fortnightly  \n",
       "2             Venmo               Weekly  \n",
       "3              Cash            Quarterly  \n",
       "4       Credit Card               Weekly  \n",
       "...             ...                  ...  \n",
       "1281         PayPal              Monthly  \n",
       "1282     Debit Card               Weekly  \n",
       "1283    Credit Card            Quarterly  \n",
       "1284  Bank Transfer            Quarterly  \n",
       "1285    Credit Card       Every 3 Months  \n",
       "\n",
       "[1286 rows x 18 columns]"
      ]
     },
     "execution_count": 4,
     "metadata": {},
     "output_type": "execute_result"
    }
   ],
   "source": [
    "FILENAME_DATASET = \"data_customers_shopping.csv\"\n",
    "df = pd.read_csv(FILENAME_DATASET, encoding=\"utf-8\", header=0)\n",
    "df\n"
   ]
  },
  {
   "cell_type": "code",
   "execution_count": 5,
   "metadata": {},
   "outputs": [
    {
     "data": {
      "text/plain": [
       "(1286, 18)"
      ]
     },
     "execution_count": 5,
     "metadata": {},
     "output_type": "execute_result"
    }
   ],
   "source": [
    "#erlaubt uns die Dimension der Tabelle zu wissen, beziehungsweise die Anzahl von Zeile und Spalten\n",
    "df.shape"
   ]
  },
  {
   "cell_type": "code",
   "execution_count": 6,
   "metadata": {},
   "outputs": [
    {
     "name": "stdout",
     "output_type": "stream",
     "text": [
      "<class 'pandas.core.frame.DataFrame'>\n",
      "RangeIndex: 1286 entries, 0 to 1285\n",
      "Data columns (total 18 columns):\n",
      " #   Column                Non-Null Count  Dtype  \n",
      "---  ------                --------------  -----  \n",
      " 0   CustomerID            1281 non-null   float64\n",
      " 1   Age                   1286 non-null   int64  \n",
      " 2   Gender                1286 non-null   object \n",
      " 3   ItemPurchased         1286 non-null   object \n",
      " 4   Category              1286 non-null   object \n",
      " 5   PurchaseAmountUSD     1281 non-null   float64\n",
      " 6   Location              1279 non-null   object \n",
      " 7   Size                  1286 non-null   object \n",
      " 8   Color                 1286 non-null   object \n",
      " 9   Season                1286 non-null   object \n",
      " 10  ReviewRating          1286 non-null   float64\n",
      " 11  SubscriptionStatus    1286 non-null   object \n",
      " 12  ShippingType          1286 non-null   object \n",
      " 13  DiscountApplied       1286 non-null   object \n",
      " 14  PromoCodeUsed         1286 non-null   object \n",
      " 15  PreviousPurchases     1286 non-null   int64  \n",
      " 16  PaymentMethod         1286 non-null   object \n",
      " 17  FrequencyofPurchases  1286 non-null   object \n",
      "dtypes: float64(3), int64(2), object(13)\n",
      "memory usage: 181.0+ KB\n"
     ]
    }
   ],
   "source": [
    "#Um alle information über die Datensatz anzuzeigen\n",
    "df.info()"
   ]
  },
  {
   "cell_type": "markdown",
   "metadata": {},
   "source": [
    "### Anzahl von Zeilen und Spalten"
   ]
  },
  {
   "cell_type": "code",
   "execution_count": 7,
   "metadata": {},
   "outputs": [
    {
     "name": "stdout",
     "output_type": "stream",
     "text": [
      "anzahl Zeilen:  1286\n",
      "anzahl Spalten:  18\n",
      "alles okay.\n"
     ]
    }
   ],
   "source": [
    "nZeilen = df.shape[0]\n",
    "nSpalten = df.shape[1]\n",
    "print(\"anzahl Zeilen: \", nZeilen)\n",
    "print(\"anzahl Spalten: \", nSpalten)\n",
    "\n",
    "if nZeilen == 1286 and nSpalten == 18:\n",
    "    print (\"alles okay.\")\n",
    "else:\n",
    "    print (\"Fehler: Der Datensatz hat nicht die erwartete Anzahl an zeilen oder Spalten\")"
   ]
  },
  {
   "cell_type": "code",
   "execution_count": 8,
   "metadata": {},
   "outputs": [],
   "source": [
    "## 1erste bermerkung datentyp von costumer Id ändern float in Interger\n",
    "## es stimmt nicht mit unsere Daten"
   ]
  },
  {
   "cell_type": "markdown",
   "metadata": {},
   "source": [
    "### Zählung der fehlende Werte"
   ]
  },
  {
   "cell_type": "markdown",
   "metadata": {},
   "source": [
    "#### wir zählen die Anzahl der Fehlende Werte Pro Variable"
   ]
  },
  {
   "cell_type": "code",
   "execution_count": 9,
   "metadata": {},
   "outputs": [
    {
     "data": {
      "text/plain": [
       "CustomerID              5\n",
       "Age                     0\n",
       "Gender                  0\n",
       "ItemPurchased           0\n",
       "Category                0\n",
       "PurchaseAmountUSD       5\n",
       "Location                7\n",
       "Size                    0\n",
       "Color                   0\n",
       "Season                  0\n",
       "ReviewRating            0\n",
       "SubscriptionStatus      0\n",
       "ShippingType            0\n",
       "DiscountApplied         0\n",
       "PromoCodeUsed           0\n",
       "PreviousPurchases       0\n",
       "PaymentMethod           0\n",
       "FrequencyofPurchases    0\n",
       "dtype: int64"
      ]
     },
     "execution_count": 9,
     "metadata": {},
     "output_type": "execute_result"
    }
   ],
   "source": [
    "# Überprüfung auf fehlende Werte\n",
    "df.isnull().sum()"
   ]
  },
  {
   "cell_type": "code",
   "execution_count": 10,
   "metadata": {},
   "outputs": [
    {
     "data": {
      "text/plain": [
       "CustomerID              0.388802\n",
       "Age                     0.000000\n",
       "Gender                  0.000000\n",
       "ItemPurchased           0.000000\n",
       "Category                0.000000\n",
       "PurchaseAmountUSD       0.388802\n",
       "Location                0.544323\n",
       "Size                    0.000000\n",
       "Color                   0.000000\n",
       "Season                  0.000000\n",
       "ReviewRating            0.000000\n",
       "SubscriptionStatus      0.000000\n",
       "ShippingType            0.000000\n",
       "DiscountApplied         0.000000\n",
       "PromoCodeUsed           0.000000\n",
       "PreviousPurchases       0.000000\n",
       "PaymentMethod           0.000000\n",
       "FrequencyofPurchases    0.000000\n",
       "dtype: float64"
      ]
     },
     "execution_count": 10,
     "metadata": {},
     "output_type": "execute_result"
    }
   ],
   "source": [
    "# Relativer Anteil der Fehlwerte je Spalte\n",
    "df.isnull().sum() / len(df) * 100"
   ]
  },
  {
   "cell_type": "markdown",
   "metadata": {},
   "source": [
    "Die meisten Variablen haben keine Fehlwerte. Lediglich für die Variablen `CustomerID`, `Location` und `PurchaseAmountUSD` gibt es jeweils zwei Fehlwerte, was 13 % der Daten entspricht."
   ]
  },
  {
   "cell_type": "markdown",
   "metadata": {},
   "source": [
    "# **Bereinigung des Datensatzes**"
   ]
  },
  {
   "cell_type": "markdown",
   "metadata": {},
   "source": [
    "## Fehlwerte entfernen"
   ]
  },
  {
   "cell_type": "code",
   "execution_count": 11,
   "metadata": {},
   "outputs": [
    {
     "data": {
      "text/plain": [
       "(1269, 18)"
      ]
     },
     "execution_count": 11,
     "metadata": {},
     "output_type": "execute_result"
    }
   ],
   "source": [
    "# Entfernen von Zeilen mit fehlenden Werten\n",
    "df.dropna().shape  # default: axis=0"
   ]
  },
  {
   "cell_type": "markdown",
   "metadata": {},
   "source": [
    "## **Fehlwerte imputieren**"
   ]
  },
  {
   "cell_type": "markdown",
   "metadata": {},
   "source": [
    "### Prüfe und Bereinigung der Spalte purchase_amountUSD"
   ]
  },
  {
   "cell_type": "code",
   "execution_count": 12,
   "metadata": {},
   "outputs": [
    {
     "name": "stdout",
     "output_type": "stream",
     "text": [
      "Warnung: Ungültige Werte für 'PurchaseAmountUSD' gefunden\n"
     ]
    }
   ],
   "source": [
    "# Prüfe das amount auf valide Werte\n",
    "amount = \"PurchaseAmountUSD\"\n",
    "\n",
    "if df[amount].dropna().between(1, 500).all():\n",
    "    print(f\"Info: Alles in Ordnung für '{amount}'\")\n",
    "else:\n",
    "      print(f\"Warnung: Ungültige Werte für '{amount}' gefunden\")"
   ]
  },
  {
   "cell_type": "code",
   "execution_count": 13,
   "metadata": {},
   "outputs": [
    {
     "data": {
      "text/html": [
       "<div>\n",
       "<style scoped>\n",
       "    .dataframe tbody tr th:only-of-type {\n",
       "        vertical-align: middle;\n",
       "    }\n",
       "\n",
       "    .dataframe tbody tr th {\n",
       "        vertical-align: top;\n",
       "    }\n",
       "\n",
       "    .dataframe thead th {\n",
       "        text-align: right;\n",
       "    }\n",
       "</style>\n",
       "<table border=\"1\" class=\"dataframe\">\n",
       "  <thead>\n",
       "    <tr style=\"text-align: right;\">\n",
       "      <th></th>\n",
       "      <th>CustomerID</th>\n",
       "      <th>Age</th>\n",
       "      <th>Gender</th>\n",
       "      <th>ItemPurchased</th>\n",
       "      <th>Category</th>\n",
       "      <th>PurchaseAmountUSD</th>\n",
       "      <th>Location</th>\n",
       "      <th>Size</th>\n",
       "      <th>Color</th>\n",
       "      <th>Season</th>\n",
       "      <th>ReviewRating</th>\n",
       "      <th>SubscriptionStatus</th>\n",
       "      <th>ShippingType</th>\n",
       "      <th>DiscountApplied</th>\n",
       "      <th>PromoCodeUsed</th>\n",
       "      <th>PreviousPurchases</th>\n",
       "      <th>PaymentMethod</th>\n",
       "      <th>FrequencyofPurchases</th>\n",
       "    </tr>\n",
       "  </thead>\n",
       "  <tbody>\n",
       "    <tr>\n",
       "      <th>100</th>\n",
       "      <td>297.0</td>\n",
       "      <td>25</td>\n",
       "      <td>Male</td>\n",
       "      <td>Sandals</td>\n",
       "      <td>Footwear</td>\n",
       "      <td>74.0</td>\n",
       "      <td>Indiana</td>\n",
       "      <td>S</td>\n",
       "      <td>Lavender</td>\n",
       "      <td>Spring</td>\n",
       "      <td>4.8</td>\n",
       "      <td>Yes</td>\n",
       "      <td>2-Day Shipping</td>\n",
       "      <td>Yes</td>\n",
       "      <td>Yes</td>\n",
       "      <td>19</td>\n",
       "      <td>Credit Card</td>\n",
       "      <td>Weekly</td>\n",
       "    </tr>\n",
       "    <tr>\n",
       "      <th>101</th>\n",
       "      <td>300.0</td>\n",
       "      <td>25</td>\n",
       "      <td>Male</td>\n",
       "      <td>Sneakers</td>\n",
       "      <td>Footwear</td>\n",
       "      <td>80.0</td>\n",
       "      <td>Pennsylvania</td>\n",
       "      <td>M</td>\n",
       "      <td>Maroon</td>\n",
       "      <td>Summer</td>\n",
       "      <td>3.2</td>\n",
       "      <td>Yes</td>\n",
       "      <td>Next Day Air</td>\n",
       "      <td>Yes</td>\n",
       "      <td>Yes</td>\n",
       "      <td>28</td>\n",
       "      <td>PayPal</td>\n",
       "      <td>Fortnightly</td>\n",
       "    </tr>\n",
       "    <tr>\n",
       "      <th>102</th>\n",
       "      <td>301.0</td>\n",
       "      <td>29</td>\n",
       "      <td>Male</td>\n",
       "      <td>Hat</td>\n",
       "      <td>Accessories</td>\n",
       "      <td>98.0</td>\n",
       "      <td>Iowa</td>\n",
       "      <td>M</td>\n",
       "      <td>Teal</td>\n",
       "      <td>Spring</td>\n",
       "      <td>4.4</td>\n",
       "      <td>Yes</td>\n",
       "      <td>Store Pickup</td>\n",
       "      <td>Yes</td>\n",
       "      <td>Yes</td>\n",
       "      <td>24</td>\n",
       "      <td>PayPal</td>\n",
       "      <td>Weekly</td>\n",
       "    </tr>\n",
       "    <tr>\n",
       "      <th>103</th>\n",
       "      <td>303.0</td>\n",
       "      <td>37</td>\n",
       "      <td>Male</td>\n",
       "      <td>Sweater</td>\n",
       "      <td>Clothing</td>\n",
       "      <td>59.0</td>\n",
       "      <td>Delaware</td>\n",
       "      <td>L</td>\n",
       "      <td>Olive</td>\n",
       "      <td>Summer</td>\n",
       "      <td>3.6</td>\n",
       "      <td>Yes</td>\n",
       "      <td>Express</td>\n",
       "      <td>Yes</td>\n",
       "      <td>Yes</td>\n",
       "      <td>27</td>\n",
       "      <td>Bank Transfer</td>\n",
       "      <td>Every 3 Months</td>\n",
       "    </tr>\n",
       "    <tr>\n",
       "      <th>104</th>\n",
       "      <td>304.0</td>\n",
       "      <td>20</td>\n",
       "      <td>Male</td>\n",
       "      <td>Sandals</td>\n",
       "      <td>Footwear</td>\n",
       "      <td>60.0</td>\n",
       "      <td>Oregon</td>\n",
       "      <td>M</td>\n",
       "      <td>Turquoise</td>\n",
       "      <td>Summer</td>\n",
       "      <td>3.3</td>\n",
       "      <td>Yes</td>\n",
       "      <td>Next Day Air</td>\n",
       "      <td>Yes</td>\n",
       "      <td>Yes</td>\n",
       "      <td>49</td>\n",
       "      <td>Venmo</td>\n",
       "      <td>Weekly</td>\n",
       "    </tr>\n",
       "    <tr>\n",
       "      <th>105</th>\n",
       "      <td>313.0</td>\n",
       "      <td>38</td>\n",
       "      <td>Male</td>\n",
       "      <td>Pants</td>\n",
       "      <td>Clothing</td>\n",
       "      <td>89.0</td>\n",
       "      <td>Massachusetts</td>\n",
       "      <td>L</td>\n",
       "      <td>Green</td>\n",
       "      <td>Spring</td>\n",
       "      <td>3.4</td>\n",
       "      <td>Yes</td>\n",
       "      <td>Next Day Air</td>\n",
       "      <td>Yes</td>\n",
       "      <td>Yes</td>\n",
       "      <td>6</td>\n",
       "      <td>PayPal</td>\n",
       "      <td>Annually</td>\n",
       "    </tr>\n",
       "  </tbody>\n",
       "</table>\n",
       "</div>"
      ],
      "text/plain": [
       "     CustomerID  Age Gender ItemPurchased     Category  PurchaseAmountUSD  \\\n",
       "100       297.0   25   Male       Sandals     Footwear               74.0   \n",
       "101       300.0   25   Male      Sneakers     Footwear               80.0   \n",
       "102       301.0   29   Male           Hat  Accessories               98.0   \n",
       "103       303.0   37   Male       Sweater     Clothing               59.0   \n",
       "104       304.0   20   Male       Sandals     Footwear               60.0   \n",
       "105       313.0   38   Male         Pants     Clothing               89.0   \n",
       "\n",
       "          Location Size      Color  Season  ReviewRating SubscriptionStatus  \\\n",
       "100        Indiana    S   Lavender  Spring           4.8                Yes   \n",
       "101   Pennsylvania    M     Maroon  Summer           3.2                Yes   \n",
       "102           Iowa    M       Teal  Spring           4.4                Yes   \n",
       "103       Delaware    L      Olive  Summer           3.6                Yes   \n",
       "104         Oregon    M  Turquoise  Summer           3.3                Yes   \n",
       "105  Massachusetts    L      Green  Spring           3.4                Yes   \n",
       "\n",
       "       ShippingType DiscountApplied PromoCodeUsed  PreviousPurchases  \\\n",
       "100  2-Day Shipping             Yes           Yes                 19   \n",
       "101    Next Day Air             Yes           Yes                 28   \n",
       "102    Store Pickup             Yes           Yes                 24   \n",
       "103         Express             Yes           Yes                 27   \n",
       "104    Next Day Air             Yes           Yes                 49   \n",
       "105    Next Day Air             Yes           Yes                  6   \n",
       "\n",
       "     PaymentMethod FrequencyofPurchases  \n",
       "100    Credit Card               Weekly  \n",
       "101         PayPal          Fortnightly  \n",
       "102         PayPal               Weekly  \n",
       "103  Bank Transfer       Every 3 Months  \n",
       "104          Venmo               Weekly  \n",
       "105         PayPal             Annually  "
      ]
     },
     "execution_count": 13,
     "metadata": {},
     "output_type": "execute_result"
    }
   ],
   "source": [
    "PurchaseAmountUSD_median = df[\"PurchaseAmountUSD\"].median()\n",
    "\n",
    "# Ersetzen der fehlenden Werte von PurchaseAmountUSD durch den Median\n",
    "df['PurchaseAmountUSD'] = df['PurchaseAmountUSD'].fillna(PurchaseAmountUSD_median)\n",
    "\n",
    "# Anzeigen des neuen DataFrame mit den ersetzten fehlenden Werten\n",
    "df.iloc[100:106]\n"
   ]
  },
  {
   "cell_type": "code",
   "execution_count": 14,
   "metadata": {},
   "outputs": [
    {
     "name": "stdout",
     "output_type": "stream",
     "text": [
      "Ungültige Werte für 'PurchaseAmountUSD':\n",
      "22     -821.0\n",
      "53     -761.0\n",
      "319    -334.0\n",
      "401    -401.0\n",
      "816    -163.0\n",
      "842    -993.0\n",
      "866    -174.0\n",
      "904    -830.0\n",
      "905    -511.0\n",
      "1096   -916.0\n",
      "1244   -751.0\n",
      "1269   -104.0\n",
      "Name: PurchaseAmountUSD, dtype: float64\n"
     ]
    }
   ],
   "source": [
    "# Wählen Sie die Werte aus der Spalte 'PurchaseAmountUSD' aus, die nicht zwischen 1 und 1500 liegen\n",
    "invalid_values = df[(df[amount].isnull()) | (~df[amount].between(1, 1500))][amount]\n",
    "\n",
    "# Anzeigen der ungültigen Werte\n",
    "print(\"Ungültige Werte für 'PurchaseAmountUSD':\")\n",
    "print(invalid_values)"
   ]
  },
  {
   "cell_type": "code",
   "execution_count": 15,
   "metadata": {},
   "outputs": [
    {
     "name": "stdout",
     "output_type": "stream",
     "text": [
      "Info: Alles in Ordnung für 'PurchaseAmountUSD'\n"
     ]
    }
   ],
   "source": [
    "# fehlerhafte Werte das Alter bereinigen\n",
    "#df[\"PurchaseAmountUSD\"].replace(\n",
    "#    {\n",
    "#        -821: 821,\n",
    "#        -761: 761,\n",
    "#        -334: 334,\n",
    "#        -401: 401,\n",
    "#        -163: 163,\n",
    "#       -993: 993,\n",
    "#        -174: 174,\n",
    "#       -830: 830,\n",
    "#        -511: 511,\n",
    "#       -916: 916,\n",
    "#        -751: 751,\n",
    "#        -104: 104,\n",
    "#    },\n",
    "#    inplace=True,\n",
    "#)\n",
    "df['PurchaseAmountUSD'] = df['PurchaseAmountUSD'].apply(lambda x :abs(x))\n",
    "# Prüfe das Alter auf valide Werte\n",
    "if df[amount].dropna().between(1, 1000).all():\n",
    "    print(f\"Info: Alles in Ordnung für '{amount}'\")\n",
    "else:\n",
    "    print(f\"Warnung: Ungültige Werte für '{amount}' gefunden\")"
   ]
  },
  {
   "cell_type": "markdown",
   "metadata": {},
   "source": [
    "### Prüfe und Bereinigung der Spalte Alter"
   ]
  },
  {
   "cell_type": "code",
   "execution_count": 16,
   "metadata": {},
   "outputs": [
    {
     "name": "stdout",
     "output_type": "stream",
     "text": [
      "Warnung: Ungültige Werte für 'Age' gefunden\n"
     ]
    }
   ],
   "source": [
    "# Prüfe das Alter auf valide Werte\n",
    "alter = \"Age\"\n",
    "\n",
    "if df[alter].dropna().between(1, 100).all():\n",
    "    print(f\"Info: Alles in Ordnung für '{alter}'\")\n",
    "else:\n",
    "    print(f\"Warnung: Ungültige Werte für '{alter}' gefunden\")"
   ]
  },
  {
   "cell_type": "code",
   "execution_count": 17,
   "metadata": {},
   "outputs": [
    {
     "name": "stdout",
     "output_type": "stream",
     "text": [
      "Ungültige Werte für 'Age':\n",
      "45     -57\n",
      "258    -23\n",
      "321    -43\n",
      "345    -18\n",
      "637    -65\n",
      "734    -58\n",
      "837    -60\n",
      "946    -56\n",
      "1164   -50\n",
      "1251   -40\n",
      "Name: Age, dtype: int64\n"
     ]
    }
   ],
   "source": [
    "# Wählen Sie die Werte aus der Spalte 'Age' aus, die nicht position sind\n",
    "invalid_values = df[(df[alter].isnull()) | (~df[alter].between(1, 100))][alter]\n",
    "\n",
    "# Anzeigen der ungültigen Werte\n",
    "print(\"Ungültige Werte für 'Age':\")\n",
    "print(invalid_values)"
   ]
  },
  {
   "cell_type": "code",
   "execution_count": 18,
   "metadata": {},
   "outputs": [
    {
     "name": "stdout",
     "output_type": "stream",
     "text": [
      "Info: Alles in Ordnung für 'Age'\n"
     ]
    }
   ],
   "source": [
    "\n",
    "# Verwendung von absolute Werten \n",
    "df['Age'] = df['Age'].apply(lambda x :abs(x))\n",
    "# Prüfe das Alter auf valide Werte\n",
    "if df[alter].dropna().between(1, 100).all():\n",
    "    print(f\"Info: Alles in Ordnung für '{alter}'\")\n",
    "else:\n",
    "    print(f\"Warnung: Ungültige Werte für '{alter}' gefunden\")"
   ]
  },
  {
   "cell_type": "markdown",
   "metadata": {},
   "source": [
    "### Prüfe und Bereinigung der Spalte purchase_amountUSD (DUCHELLE)"
   ]
  },
  {
   "cell_type": "markdown",
   "metadata": {},
   "source": [
    "### Prüfe und Bereinigung der Spalte ReviewRating"
   ]
  },
  {
   "cell_type": "code",
   "execution_count": 19,
   "metadata": {},
   "outputs": [
    {
     "name": "stdout",
     "output_type": "stream",
     "text": [
      "Warnung: Ungültige Werte für 'ReviewRating' gefunden\n"
     ]
    }
   ],
   "source": [
    "# Prüfe das ReviewRating auf valide Werte\n",
    "Bewertung = \"ReviewRating\"\n",
    "\n",
    "if df[Bewertung].dropna().between(0, 5).all():\n",
    "    print(f\"Info: Alles in Ordnung für '{Bewertung}'\")\n",
    "else:\n",
    "    print(f\"Warnung: Ungültige Werte für '{Bewertung}' gefunden\")"
   ]
  },
  {
   "cell_type": "code",
   "execution_count": 20,
   "metadata": {},
   "outputs": [
    {
     "name": "stdout",
     "output_type": "stream",
     "text": [
      "Ungültige Werte für 'PurchaseAmountUSD':\n",
      "38     -3.0\n",
      "86     -3.0\n",
      "320    -3.0\n",
      "331    -3.0\n",
      "363    -3.0\n",
      "486    -3.0\n",
      "1042   -3.0\n",
      "Name: ReviewRating, dtype: float64\n"
     ]
    }
   ],
   "source": [
    "# Wählen Sie die Werte aus der Spalte 'ReviewRating' aus, die nicht zwischen 1 und 500 liegen\n",
    "invalid_values = df[(df[Bewertung].isnull()) | (~df[Bewertung].between(1, 500))][Bewertung]\n",
    "\n",
    "# Anzeigen der ungültigen Werte\n",
    "print(f\"Ungültige Werte für 'PurchaseAmountUSD':\\n{invalid_values}\")"
   ]
  },
  {
   "cell_type": "code",
   "execution_count": 21,
   "metadata": {},
   "outputs": [
    {
     "name": "stdout",
     "output_type": "stream",
     "text": [
      "Info: Alles in Ordnung für 'ReviewRating'\n"
     ]
    }
   ],
   "source": [
    "# fehlerhafte Werte für das ReviewRating bereinigen\n",
    "\n",
    "df['ReviewRating'] = df['ReviewRating'].apply(lambda x :abs(x))\n",
    "\n",
    "# Prüfe das Alter auf valide Werte\n",
    "if df[Bewertung].dropna().between(1, 5).all():\n",
    "    print(f\"Info: Alles in Ordnung für '{Bewertung}'\")\n",
    "else:\n",
    "    print(f\"Warnung: Ungültige Werte für '{Bewertung}' gefunden\")"
   ]
  },
  {
   "cell_type": "markdown",
   "metadata": {},
   "source": [
    "### Prüfe und Bereinigung der Spalte CustomerID"
   ]
  },
  {
   "cell_type": "markdown",
   "metadata": {},
   "source": [
    "#### Zeilen mit fehlenden CustomerID löschen\n"
   ]
  },
  {
   "cell_type": "code",
   "execution_count": 22,
   "metadata": {},
   "outputs": [],
   "source": [
    "df.dropna(subset=['CustomerID'], inplace=True)"
   ]
  },
  {
   "cell_type": "code",
   "execution_count": 23,
   "metadata": {},
   "outputs": [
    {
     "data": {
      "text/plain": [
       "CustomerID              0\n",
       "Age                     0\n",
       "Gender                  0\n",
       "ItemPurchased           0\n",
       "Category                0\n",
       "PurchaseAmountUSD       0\n",
       "Location                7\n",
       "Size                    0\n",
       "Color                   0\n",
       "Season                  0\n",
       "ReviewRating            0\n",
       "SubscriptionStatus      0\n",
       "ShippingType            0\n",
       "DiscountApplied         0\n",
       "PromoCodeUsed           0\n",
       "PreviousPurchases       0\n",
       "PaymentMethod           0\n",
       "FrequencyofPurchases    0\n",
       "dtype: int64"
      ]
     },
     "execution_count": 23,
     "metadata": {},
     "output_type": "execute_result"
    }
   ],
   "source": [
    "df.isnull().sum()"
   ]
  },
  {
   "cell_type": "markdown",
   "metadata": {},
   "source": [
    "### fehlerhafte Werte der Spalte Location"
   ]
  },
  {
   "cell_type": "code",
   "execution_count": 32,
   "metadata": {},
   "outputs": [
    {
     "data": {
      "text/html": [
       "<div>\n",
       "<style scoped>\n",
       "    .dataframe tbody tr th:only-of-type {\n",
       "        vertical-align: middle;\n",
       "    }\n",
       "\n",
       "    .dataframe tbody tr th {\n",
       "        vertical-align: top;\n",
       "    }\n",
       "\n",
       "    .dataframe thead th {\n",
       "        text-align: right;\n",
       "    }\n",
       "</style>\n",
       "<table border=\"1\" class=\"dataframe\">\n",
       "  <thead>\n",
       "    <tr style=\"text-align: right;\">\n",
       "      <th></th>\n",
       "      <th>CustomerID</th>\n",
       "      <th>Age</th>\n",
       "      <th>Gender</th>\n",
       "      <th>ItemPurchased</th>\n",
       "      <th>Category</th>\n",
       "      <th>PurchaseAmountUSD</th>\n",
       "      <th>Location</th>\n",
       "      <th>Size</th>\n",
       "      <th>Color</th>\n",
       "      <th>Season</th>\n",
       "      <th>ReviewRating</th>\n",
       "      <th>SubscriptionStatus</th>\n",
       "      <th>ShippingType</th>\n",
       "      <th>DiscountApplied</th>\n",
       "      <th>PromoCodeUsed</th>\n",
       "      <th>PreviousPurchases</th>\n",
       "      <th>PaymentMethod</th>\n",
       "      <th>FrequencyofPurchases</th>\n",
       "    </tr>\n",
       "  </thead>\n",
       "  <tbody>\n",
       "    <tr>\n",
       "      <th>214</th>\n",
       "      <td>647</td>\n",
       "      <td>51</td>\n",
       "      <td>Male</td>\n",
       "      <td>Boots</td>\n",
       "      <td>Footwear</td>\n",
       "      <td>54.0</td>\n",
       "      <td>Indiana</td>\n",
       "      <td>XL</td>\n",
       "      <td>Pink</td>\n",
       "      <td>Spring</td>\n",
       "      <td>4.9</td>\n",
       "      <td>Yes</td>\n",
       "      <td>Standard</td>\n",
       "      <td>Yes</td>\n",
       "      <td>Yes</td>\n",
       "      <td>19</td>\n",
       "      <td>Venmo</td>\n",
       "      <td>Bi-Weekly</td>\n",
       "    </tr>\n",
       "    <tr>\n",
       "      <th>215</th>\n",
       "      <td>650</td>\n",
       "      <td>53</td>\n",
       "      <td>Male</td>\n",
       "      <td>Pants</td>\n",
       "      <td>Clothing</td>\n",
       "      <td>93.0</td>\n",
       "      <td>Delaware</td>\n",
       "      <td>L</td>\n",
       "      <td>Orange</td>\n",
       "      <td>Spring</td>\n",
       "      <td>4.2</td>\n",
       "      <td>Yes</td>\n",
       "      <td>Store Pickup</td>\n",
       "      <td>Yes</td>\n",
       "      <td>Yes</td>\n",
       "      <td>33</td>\n",
       "      <td>PayPal</td>\n",
       "      <td>Every 3 Months</td>\n",
       "    </tr>\n",
       "    <tr>\n",
       "      <th>216</th>\n",
       "      <td>653</td>\n",
       "      <td>64</td>\n",
       "      <td>Male</td>\n",
       "      <td>Sunglasses</td>\n",
       "      <td>Accessories</td>\n",
       "      <td>27.0</td>\n",
       "      <td>Alabama</td>\n",
       "      <td>M</td>\n",
       "      <td>Beige</td>\n",
       "      <td>Winter</td>\n",
       "      <td>3.1</td>\n",
       "      <td>Yes</td>\n",
       "      <td>Free Shipping</td>\n",
       "      <td>Yes</td>\n",
       "      <td>Yes</td>\n",
       "      <td>27</td>\n",
       "      <td>Venmo</td>\n",
       "      <td>Weekly</td>\n",
       "    </tr>\n",
       "    <tr>\n",
       "      <th>217</th>\n",
       "      <td>654</td>\n",
       "      <td>20</td>\n",
       "      <td>Male</td>\n",
       "      <td>Scarf</td>\n",
       "      <td>Accessories</td>\n",
       "      <td>68.0</td>\n",
       "      <td>North Dakota</td>\n",
       "      <td>M</td>\n",
       "      <td>Olive</td>\n",
       "      <td>Winter</td>\n",
       "      <td>3.6</td>\n",
       "      <td>Yes</td>\n",
       "      <td>2-Day Shipping</td>\n",
       "      <td>Yes</td>\n",
       "      <td>Yes</td>\n",
       "      <td>45</td>\n",
       "      <td>Cash</td>\n",
       "      <td>Fortnightly</td>\n",
       "    </tr>\n",
       "    <tr>\n",
       "      <th>218</th>\n",
       "      <td>660</td>\n",
       "      <td>62</td>\n",
       "      <td>Male</td>\n",
       "      <td>Shorts</td>\n",
       "      <td>Clothing</td>\n",
       "      <td>52.0</td>\n",
       "      <td>Virginia</td>\n",
       "      <td>S</td>\n",
       "      <td>Gold</td>\n",
       "      <td>Spring</td>\n",
       "      <td>3.6</td>\n",
       "      <td>Yes</td>\n",
       "      <td>2-Day Shipping</td>\n",
       "      <td>Yes</td>\n",
       "      <td>Yes</td>\n",
       "      <td>8</td>\n",
       "      <td>Cash</td>\n",
       "      <td>Weekly</td>\n",
       "    </tr>\n",
       "  </tbody>\n",
       "</table>\n",
       "</div>"
      ],
      "text/plain": [
       "     CustomerID  Age Gender ItemPurchased     Category  PurchaseAmountUSD  \\\n",
       "214         647   51   Male         Boots     Footwear               54.0   \n",
       "215         650   53   Male         Pants     Clothing               93.0   \n",
       "216         653   64   Male    Sunglasses  Accessories               27.0   \n",
       "217         654   20   Male         Scarf  Accessories               68.0   \n",
       "218         660   62   Male        Shorts     Clothing               52.0   \n",
       "\n",
       "         Location Size   Color  Season  ReviewRating SubscriptionStatus  \\\n",
       "214       Indiana   XL    Pink  Spring           4.9                Yes   \n",
       "215      Delaware    L  Orange  Spring           4.2                Yes   \n",
       "216       Alabama    M   Beige  Winter           3.1                Yes   \n",
       "217  North Dakota    M   Olive  Winter           3.6                Yes   \n",
       "218      Virginia    S    Gold  Spring           3.6                Yes   \n",
       "\n",
       "       ShippingType DiscountApplied PromoCodeUsed  PreviousPurchases  \\\n",
       "214        Standard             Yes           Yes                 19   \n",
       "215    Store Pickup             Yes           Yes                 33   \n",
       "216   Free Shipping             Yes           Yes                 27   \n",
       "217  2-Day Shipping             Yes           Yes                 45   \n",
       "218  2-Day Shipping             Yes           Yes                  8   \n",
       "\n",
       "    PaymentMethod FrequencyofPurchases  \n",
       "214         Venmo            Bi-Weekly  \n",
       "215        PayPal       Every 3 Months  \n",
       "216         Venmo               Weekly  \n",
       "217          Cash          Fortnightly  \n",
       "218          Cash               Weekly  "
      ]
     },
     "execution_count": 32,
     "metadata": {},
     "output_type": "execute_result"
    }
   ],
   "source": [
    "häufigster_wert = df[\"Location\"].mode()[0]\n",
    "# Ersetzen der fehlenden Werte von Location durch den häufigster_wert\n",
    "df['Location'] = df['Location'].fillna(häufigster_wert)\n",
    "df.loc[214:218]"
   ]
  },
  {
   "cell_type": "code",
   "execution_count": 33,
   "metadata": {},
   "outputs": [
    {
     "data": {
      "text/plain": [
       "CustomerID              0\n",
       "Age                     0\n",
       "Gender                  0\n",
       "ItemPurchased           0\n",
       "Category                0\n",
       "PurchaseAmountUSD       0\n",
       "Location                0\n",
       "Size                    0\n",
       "Color                   0\n",
       "Season                  0\n",
       "ReviewRating            0\n",
       "SubscriptionStatus      0\n",
       "ShippingType            0\n",
       "DiscountApplied         0\n",
       "PromoCodeUsed           0\n",
       "PreviousPurchases       0\n",
       "PaymentMethod           0\n",
       "FrequencyofPurchases    0\n",
       "dtype: int64"
      ]
     },
     "execution_count": 33,
     "metadata": {},
     "output_type": "execute_result"
    }
   ],
   "source": [
    "df.isnull().sum()"
   ]
  },
  {
   "cell_type": "code",
   "execution_count": 34,
   "metadata": {},
   "outputs": [
    {
     "data": {
      "image/png": "[encoded data removed]",
      "text/plain": [
       "<Figure size 640x480 with 1 Axes>"
      ]
     },
     "metadata": {},
     "output_type": "display_data"
    }
   ],
   "source": [
    "# Gruppierung nach Geschlecht und Zählen der Einkäufe in der Kategorie \"Kleidung\"\n",
    "gender_preference = df.groupby('Gender')['Category'].apply(lambda x: (x == 'Clothing').sum())\n",
    "\n",
    "# Balkendiagramm erstellen\n",
    "plt.bar(gender_preference.index, gender_preference.values)\n",
    "\n",
    "# Titel und Achsenbeschriftungen hinzufügen\n",
    "plt.title(\"Verteilung der Kleidungskäufe nach Geschlecht\")\n",
    "plt.xlabel(\"Geschlecht\")\n",
    "plt.ylabel(\"Anzahl der Käufe von Kleidung\")\n",
    "\n",
    "# Diagramm anzeigen\n",
    "plt.show()"
   ]
  },
  {
   "cell_type": "markdown",
   "metadata": {},
   "source": [
    "## es fällt auf, dass Männer mehr kaufen als Frauen"
   ]
  },
  {
   "cell_type": "markdown",
   "metadata": {},
   "source": [
    "Das Balkendiagramm eignet sich gut, um die Hypothese über die Vorliebe von Frauen für den Kauf von Kleidung zu demonstrieren. Es ermöglicht einen direkten Vergleich der Kaufhäufigkeit zwischen den Geschlechtern auf eine klare und leicht verständliche Weise."
   ]
  },
  {
   "cell_type": "code",
   "execution_count": 35,
   "metadata": {},
   "outputs": [
    {
     "name": "stdout",
     "output_type": "stream",
     "text": [
      "Test de Chi carré - p-valeur: 0.9002074004198064\n"
     ]
    }
   ],
   "source": [
    "# Test de chi carré pour déterminer l'association entre le sexe et l'achat de vêtements\n",
    "contingency_table = pd.crosstab(df['Gender'], df['Category'] == 'Clothing')\n",
    "chi2, p, _, _ = chi2_contingency(contingency_table)\n",
    "print(\"Test de Chi carré - p-valeur:\", p)"
   ]
  },
  {
   "cell_type": "markdown",
   "metadata": {},
   "source": [
    "Männer, die von Aktionsrabatten profitieren, geben tendenziell mehr aus als Kunden, die keine Rabatte erhalten."
   ]
  },
  {
   "cell_type": "code",
   "execution_count": 36,
   "metadata": {},
   "outputs": [
    {
     "data": {
      "image/png": "[encoded data removed]",
      "text/plain": [
       "<Figure size 640x480 with 1 Axes>"
      ]
     },
     "metadata": {},
     "output_type": "display_data"
    }
   ],
   "source": [
    "# Boxplot erstellen\n",
    "sns.boxplot(x='DiscountApplied', y='PurchaseAmountUSD', hue='Gender', data=df)\n",
    "\n",
    "# Titel und Achsenbeschriftungen hinzufügen\n",
    "plt.title(\"Kaufbetrag in Abhängigkeit von Rabatten und Geschlecht\")\n",
    "plt.xlabel(\"Rabatt angewendet\")\n",
    "plt.ylabel(\"Kaufbetrag (USD)\")\n",
    "\n",
    "# Legende hinzufügen\n",
    "plt.legend(title='Geschlecht')\n",
    "\n",
    "# Diagramm anzeigen\n",
    "plt.show()\n"
   ]
  },
  {
   "cell_type": "markdown",
   "metadata": {},
   "source": [
    "\n",
    "Ein Boxplot eignet sich gut, um die Hypothese über höhere Ausgaben von Kunden mit angewendeten Rabatten zu demonstrieren, da er eine klare Vergleichsmöglichkeit der Kaufbeträge zwischen Kunden mit und ohne Rabatte bietet und Ausreißer leicht identifiziert werden können."
   ]
  }
 ],
 "metadata": {
  "kernelspec": {
   "display_name": "base",
   "language": "python",
   "name": "python3"
  },
  "language_info": {
   "codemirror_mode": {
    "name": "ipython",
    "version": 3
   },
   "file_extension": ".py",
   "mimetype": "text/x-python",
   "name": "python",
   "nbconvert_exporter": "python",
   "pygments_lexer": "ipython3",
   "version": "3.10.13"
  }
 },
 "nbformat": 4,
 "nbformat_minor": 2
}

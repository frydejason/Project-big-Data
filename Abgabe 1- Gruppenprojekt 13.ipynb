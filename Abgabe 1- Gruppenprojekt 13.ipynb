{
 "cells": [
  {
   "cell_type": "markdown",
   "metadata": {},
   "source": [
    "# Abgabe 1 - Gruppenprojekt 13"
   ]
  },
  {
   "cell_type": "markdown",
   "metadata": {},
   "source": [
    "### Fragestellung"
   ]
  },
  {
   "cell_type": "markdown",
   "metadata": {},
   "source": [
    "## 1. Fragestellung entwicklen und daten aufbereiten"
   ]
  },
  {
   "cell_type": "markdown",
   "metadata": {},
   "source": [
    "#### Als Fragestellung haben wir uns entschieden für:\n",
    "\n",
    "#### -Wie beeinflussen verschiedene Faktoren wie Alter, Artikel,  Saison die Kaufentscheidungen von Kunden?"
   ]
  },
  {
   "cell_type": "markdown",
   "metadata": {},
   "source": [
    "lhiuuhi"
   ]
  },
  {
   "cell_type": "markdown",
   "metadata": {},
   "source": [
    "### Hypothesen\n",
    "Weibliche Kunden zeigen eine höhere Präferenz für Kleidungskäufe im Vergleich zu männlichen Kunden.\n",
    "Kunden, die von Aktionsrabatten profitieren, geben tendenziell mehr aus als Kunden, die keine Rabatte erhalten.\n",
    "Kunden mit Abonnentenstatus kaufen häufiger ein als Kunden ohne Abonnentenstatus.\n",
    "- Ältere Kunden geben tendenziell mehr Geld aus als jüngere Kunden.\n",
    "- Kunden, die in wärmeren Jahreszeiten kaufen, geben im Durchschnitt weniger aus als Kunden, die in kälteren Jahreszeiten kaufen."
   ]
  },
  {
   "cell_type": "markdown",
   "metadata": {},
   "source": [
    "#### Hier sind unsere Hypothesen: \n",
    "#### \n"
   ]
  },
  {
   "cell_type": "code",
   "execution_count": 54,
   "metadata": {},
   "outputs": [],
   "source": [
    "import pandas as pd\n",
    "from sklearn.preprocessing import StandardScaler\n",
    "from sklearn.impute import SimpleImputer\n",
    "import matplotlib.pyplot as plt\n",
    "import numpy as np\n",
    "from scipy.stats import chi2_contingency\n",
    "import seaborn as sns"
   ]
  },
  {
   "cell_type": "markdown",
   "metadata": {},
   "source": [
    "## Daten laden"
   ]
  },
  {
   "cell_type": "code",
   "execution_count": 55,
   "metadata": {},
   "outputs": [
    {
     "data": {
      "text/html": [
       "<div>\n",
       "<style scoped>\n",
       "    .dataframe tbody tr th:only-of-type {\n",
       "        vertical-align: middle;\n",
       "    }\n",
       "\n",
       "    .dataframe tbody tr th {\n",
       "        vertical-align: top;\n",
       "    }\n",
       "\n",
       "    .dataframe thead th {\n",
       "        text-align: right;\n",
       "    }\n",
       "</style>\n",
       "<table border=\"1\" class=\"dataframe\">\n",
       "  <thead>\n",
       "    <tr style=\"text-align: right;\">\n",
       "      <th></th>\n",
       "      <th>CustomerID</th>\n",
       "      <th>Age</th>\n",
       "      <th>Gender</th>\n",
       "      <th>ItemPurchased</th>\n",
       "      <th>Category</th>\n",
       "      <th>PurchaseAmountUSD</th>\n",
       "      <th>Location</th>\n",
       "      <th>Size</th>\n",
       "      <th>Color</th>\n",
       "      <th>Season</th>\n",
       "      <th>ReviewRating</th>\n",
       "      <th>SubscriptionStatus</th>\n",
       "      <th>ShippingType</th>\n",
       "      <th>DiscountApplied</th>\n",
       "      <th>PromoCodeUsed</th>\n",
       "      <th>PreviousPurchases</th>\n",
       "      <th>PaymentMethod</th>\n",
       "      <th>FrequencyofPurchases</th>\n",
       "    </tr>\n",
       "  </thead>\n",
       "  <tbody>\n",
       "    <tr>\n",
       "      <th>0</th>\n",
       "      <td>1.0</td>\n",
       "      <td>55</td>\n",
       "      <td>Male</td>\n",
       "      <td>Blouse</td>\n",
       "      <td>Clothing</td>\n",
       "      <td>53.0</td>\n",
       "      <td>Kentucky</td>\n",
       "      <td>L</td>\n",
       "      <td>Gray</td>\n",
       "      <td>Winter</td>\n",
       "      <td>3.1</td>\n",
       "      <td>Yes</td>\n",
       "      <td>Express</td>\n",
       "      <td>Yes</td>\n",
       "      <td>Yes</td>\n",
       "      <td>14</td>\n",
       "      <td>Venmo</td>\n",
       "      <td>Fortnightly</td>\n",
       "    </tr>\n",
       "    <tr>\n",
       "      <th>1</th>\n",
       "      <td>2.0</td>\n",
       "      <td>19</td>\n",
       "      <td>Male</td>\n",
       "      <td>Sweater</td>\n",
       "      <td>Clothing</td>\n",
       "      <td>64.0</td>\n",
       "      <td>Maine</td>\n",
       "      <td>L</td>\n",
       "      <td>Maroon</td>\n",
       "      <td>Winter</td>\n",
       "      <td>3.1</td>\n",
       "      <td>Yes</td>\n",
       "      <td>Express</td>\n",
       "      <td>Yes</td>\n",
       "      <td>Yes</td>\n",
       "      <td>2</td>\n",
       "      <td>Cash</td>\n",
       "      <td>Fortnightly</td>\n",
       "    </tr>\n",
       "    <tr>\n",
       "      <th>2</th>\n",
       "      <td>6.0</td>\n",
       "      <td>46</td>\n",
       "      <td>Male</td>\n",
       "      <td>Sneakers</td>\n",
       "      <td>Footwear</td>\n",
       "      <td>20.0</td>\n",
       "      <td>Wyoming</td>\n",
       "      <td>M</td>\n",
       "      <td>White</td>\n",
       "      <td>Summer</td>\n",
       "      <td>2.9</td>\n",
       "      <td>Yes</td>\n",
       "      <td>Standard</td>\n",
       "      <td>Yes</td>\n",
       "      <td>Yes</td>\n",
       "      <td>14</td>\n",
       "      <td>Venmo</td>\n",
       "      <td>Weekly</td>\n",
       "    </tr>\n",
       "    <tr>\n",
       "      <th>3</th>\n",
       "      <td>7.0</td>\n",
       "      <td>63</td>\n",
       "      <td>Male</td>\n",
       "      <td>Shirt</td>\n",
       "      <td>Clothing</td>\n",
       "      <td>85.0</td>\n",
       "      <td>Montana</td>\n",
       "      <td>M</td>\n",
       "      <td>Gray</td>\n",
       "      <td>Fall</td>\n",
       "      <td>3.2</td>\n",
       "      <td>Yes</td>\n",
       "      <td>Free Shipping</td>\n",
       "      <td>Yes</td>\n",
       "      <td>Yes</td>\n",
       "      <td>49</td>\n",
       "      <td>Cash</td>\n",
       "      <td>Quarterly</td>\n",
       "    </tr>\n",
       "    <tr>\n",
       "      <th>4</th>\n",
       "      <td>8.0</td>\n",
       "      <td>27</td>\n",
       "      <td>Male</td>\n",
       "      <td>Shorts</td>\n",
       "      <td>Clothing</td>\n",
       "      <td>34.0</td>\n",
       "      <td>Louisiana</td>\n",
       "      <td>L</td>\n",
       "      <td>Charcoal</td>\n",
       "      <td>Winter</td>\n",
       "      <td>3.2</td>\n",
       "      <td>Yes</td>\n",
       "      <td>Free Shipping</td>\n",
       "      <td>Yes</td>\n",
       "      <td>Yes</td>\n",
       "      <td>19</td>\n",
       "      <td>Credit Card</td>\n",
       "      <td>Weekly</td>\n",
       "    </tr>\n",
       "    <tr>\n",
       "      <th>...</th>\n",
       "      <td>...</td>\n",
       "      <td>...</td>\n",
       "      <td>...</td>\n",
       "      <td>...</td>\n",
       "      <td>...</td>\n",
       "      <td>...</td>\n",
       "      <td>...</td>\n",
       "      <td>...</td>\n",
       "      <td>...</td>\n",
       "      <td>...</td>\n",
       "      <td>...</td>\n",
       "      <td>...</td>\n",
       "      <td>...</td>\n",
       "      <td>...</td>\n",
       "      <td>...</td>\n",
       "      <td>...</td>\n",
       "      <td>...</td>\n",
       "      <td>...</td>\n",
       "    </tr>\n",
       "    <tr>\n",
       "      <th>1281</th>\n",
       "      <td>3881.0</td>\n",
       "      <td>42</td>\n",
       "      <td>Female</td>\n",
       "      <td>Shirt</td>\n",
       "      <td>Clothing</td>\n",
       "      <td>20.0</td>\n",
       "      <td>Massachusetts</td>\n",
       "      <td>M</td>\n",
       "      <td>Red</td>\n",
       "      <td>Winter</td>\n",
       "      <td>3.9</td>\n",
       "      <td>No</td>\n",
       "      <td>Free Shipping</td>\n",
       "      <td>No</td>\n",
       "      <td>No</td>\n",
       "      <td>40</td>\n",
       "      <td>PayPal</td>\n",
       "      <td>Monthly</td>\n",
       "    </tr>\n",
       "    <tr>\n",
       "      <th>1282</th>\n",
       "      <td>3882.0</td>\n",
       "      <td>56</td>\n",
       "      <td>Female</td>\n",
       "      <td>Scarf</td>\n",
       "      <td>Accessories</td>\n",
       "      <td>25.0</td>\n",
       "      <td>Georgia</td>\n",
       "      <td>L</td>\n",
       "      <td>Silver</td>\n",
       "      <td>Spring</td>\n",
       "      <td>2.8</td>\n",
       "      <td>No</td>\n",
       "      <td>2-Day Shipping</td>\n",
       "      <td>No</td>\n",
       "      <td>No</td>\n",
       "      <td>17</td>\n",
       "      <td>Debit Card</td>\n",
       "      <td>Weekly</td>\n",
       "    </tr>\n",
       "    <tr>\n",
       "      <th>1283</th>\n",
       "      <td>3888.0</td>\n",
       "      <td>40</td>\n",
       "      <td>Female</td>\n",
       "      <td>Shirt</td>\n",
       "      <td>Clothing</td>\n",
       "      <td>34.0</td>\n",
       "      <td>Kansas</td>\n",
       "      <td>M</td>\n",
       "      <td>Charcoal</td>\n",
       "      <td>Spring</td>\n",
       "      <td>2.7</td>\n",
       "      <td>No</td>\n",
       "      <td>Express</td>\n",
       "      <td>No</td>\n",
       "      <td>No</td>\n",
       "      <td>1</td>\n",
       "      <td>Credit Card</td>\n",
       "      <td>Quarterly</td>\n",
       "    </tr>\n",
       "    <tr>\n",
       "      <th>1284</th>\n",
       "      <td>3892.0</td>\n",
       "      <td>36</td>\n",
       "      <td>Female</td>\n",
       "      <td>Dress</td>\n",
       "      <td>Clothing</td>\n",
       "      <td>30.0</td>\n",
       "      <td>Colorado</td>\n",
       "      <td>L</td>\n",
       "      <td>Peach</td>\n",
       "      <td>Winter</td>\n",
       "      <td>4.7</td>\n",
       "      <td>No</td>\n",
       "      <td>Free Shipping</td>\n",
       "      <td>No</td>\n",
       "      <td>No</td>\n",
       "      <td>6</td>\n",
       "      <td>Bank Transfer</td>\n",
       "      <td>Quarterly</td>\n",
       "    </tr>\n",
       "    <tr>\n",
       "      <th>1285</th>\n",
       "      <td>3895.0</td>\n",
       "      <td>66</td>\n",
       "      <td>Female</td>\n",
       "      <td>Skirt</td>\n",
       "      <td>Clothing</td>\n",
       "      <td>78.0</td>\n",
       "      <td>Connecticut</td>\n",
       "      <td>L</td>\n",
       "      <td>White</td>\n",
       "      <td>Spring</td>\n",
       "      <td>3.9</td>\n",
       "      <td>No</td>\n",
       "      <td>2-Day Shipping</td>\n",
       "      <td>No</td>\n",
       "      <td>No</td>\n",
       "      <td>44</td>\n",
       "      <td>Credit Card</td>\n",
       "      <td>Every 3 Months</td>\n",
       "    </tr>\n",
       "  </tbody>\n",
       "</table>\n",
       "<p>1286 rows × 18 columns</p>\n",
       "</div>"
      ],
      "text/plain": [
       "      CustomerID  Age  Gender ItemPurchased     Category  PurchaseAmountUSD  \\\n",
       "0            1.0   55    Male        Blouse     Clothing               53.0   \n",
       "1            2.0   19    Male       Sweater     Clothing               64.0   \n",
       "2            6.0   46    Male      Sneakers     Footwear               20.0   \n",
       "3            7.0   63    Male         Shirt     Clothing               85.0   \n",
       "4            8.0   27    Male        Shorts     Clothing               34.0   \n",
       "...          ...  ...     ...           ...          ...                ...   \n",
       "1281      3881.0   42  Female         Shirt     Clothing               20.0   \n",
       "1282      3882.0   56  Female         Scarf  Accessories               25.0   \n",
       "1283      3888.0   40  Female         Shirt     Clothing               34.0   \n",
       "1284      3892.0   36  Female         Dress     Clothing               30.0   \n",
       "1285      3895.0   66  Female         Skirt     Clothing               78.0   \n",
       "\n",
       "           Location Size     Color  Season  ReviewRating SubscriptionStatus  \\\n",
       "0          Kentucky    L      Gray  Winter           3.1                Yes   \n",
       "1             Maine    L    Maroon  Winter           3.1                Yes   \n",
       "2           Wyoming    M     White  Summer           2.9                Yes   \n",
       "3           Montana    M      Gray    Fall           3.2                Yes   \n",
       "4         Louisiana    L  Charcoal  Winter           3.2                Yes   \n",
       "...             ...  ...       ...     ...           ...                ...   \n",
       "1281  Massachusetts    M       Red  Winter           3.9                 No   \n",
       "1282        Georgia    L    Silver  Spring           2.8                 No   \n",
       "1283         Kansas    M  Charcoal  Spring           2.7                 No   \n",
       "1284       Colorado    L     Peach  Winter           4.7                 No   \n",
       "1285    Connecticut    L     White  Spring           3.9                 No   \n",
       "\n",
       "        ShippingType DiscountApplied PromoCodeUsed  PreviousPurchases  \\\n",
       "0            Express             Yes           Yes                 14   \n",
       "1            Express             Yes           Yes                  2   \n",
       "2           Standard             Yes           Yes                 14   \n",
       "3      Free Shipping             Yes           Yes                 49   \n",
       "4      Free Shipping             Yes           Yes                 19   \n",
       "...              ...             ...           ...                ...   \n",
       "1281   Free Shipping              No            No                 40   \n",
       "1282  2-Day Shipping              No            No                 17   \n",
       "1283         Express              No            No                  1   \n",
       "1284   Free Shipping              No            No                  6   \n",
       "1285  2-Day Shipping              No            No                 44   \n",
       "\n",
       "      PaymentMethod FrequencyofPurchases  \n",
       "0             Venmo          Fortnightly  \n",
       "1              Cash          Fortnightly  \n",
       "2             Venmo               Weekly  \n",
       "3              Cash            Quarterly  \n",
       "4       Credit Card               Weekly  \n",
       "...             ...                  ...  \n",
       "1281         PayPal              Monthly  \n",
       "1282     Debit Card               Weekly  \n",
       "1283    Credit Card            Quarterly  \n",
       "1284  Bank Transfer            Quarterly  \n",
       "1285    Credit Card       Every 3 Months  \n",
       "\n",
       "[1286 rows x 18 columns]"
      ]
     },
     "execution_count": 55,
     "metadata": {},
     "output_type": "execute_result"
    }
   ],
   "source": [
    "FILENAME_DATASET = \"data_customers_shopping.csv\"\n",
    "df = pd.read_csv(FILENAME_DATASET, encoding=\"utf-8\", header=0)\n",
    "df\n"
   ]
  },
  {
   "cell_type": "markdown",
   "metadata": {},
   "source": [
    "> **Labele anpassen**"
   ]
  },
  {
   "cell_type": "code",
   "execution_count": 56,
   "metadata": {},
   "outputs": [
    {
     "name": "stdout",
     "output_type": "stream",
     "text": [
      "{'CustomerID': 'customerID', 'Age': 'age', 'Gender': 'gender', 'ItemPurchased': 'item_purchased', 'Category': 'category', 'PurchaseAmountUSD': 'purchase_amountUSD', 'Location': 'location', 'Size': 'size', 'Color': 'color', 'Season': 'season', 'ReviewRating': 'review_rating', 'SubscriptionStatus': 'subscription_status', 'ShippingType': 'shipping_type', 'DiscountApplied': 'discount_applied', 'PromoCodeUsed': 'promo_code_used', 'PreviousPurchases': 'previous_purchases', 'PaymentMethod': 'payment_method', 'FrequencyofPurchases': 'frequency_of_purchases'}\n"
     ]
    },
    {
     "data": {
      "text/plain": [
       "Index(['customerID', 'age', 'gender', 'item_purchased', 'category',\n",
       "       'purchase_amountUSD', 'location', 'size', 'color', 'season',\n",
       "       'review_rating', 'subscription_status', 'shipping_type',\n",
       "       'discount_applied', 'promo_code_used', 'previous_purchases',\n",
       "       'payment_method', 'frequency_of_purchases'],\n",
       "      dtype='object')"
      ]
     },
     "execution_count": 56,
     "metadata": {},
     "output_type": "execute_result"
    }
   ],
   "source": [
    "map_old_new_column_names = {\"CustomerID\": \"customerID\",\n",
    "                            \"Age\": \"age\",\n",
    "                            \"Gender\": \"gender\",\n",
    "                            \"ItemPurchased\": \"item_purchased\",\n",
    "                            \"Category\": \"category\",\n",
    "                            \"PurchaseAmountUSD\": \"purchase_amountUSD\",\n",
    "                            \"Location\": \"location\",\n",
    "                            \"Size\": \"size\",\n",
    "                            \"Color\": \"color\",\n",
    "                            \"Season\": \"season\",\n",
    "                            \"ReviewRating\": \"review_rating\",\n",
    "                            \"SubscriptionStatus\": \"subscription_status\",\n",
    "                           \"ShippingType\": \"shipping_type\",\n",
    "                            \"DiscountApplied\": \"discount_applied\",\n",
    "                            \"PromoCodeUsed\": \"promo_code_used\",\n",
    "                            \"PreviousPurchases\": \"previous_purchases\",\n",
    "                            \"PaymentMethod\": \"payment_method\",\n",
    "                            \"FrequencyofPurchases\": \"frequency_of_purchases\"\n",
    "                            }\n",
    "\n",
    "print(map_old_new_column_names)\n",
    "\n",
    "df.rename(columns=map_old_new_column_names, inplace=True)\n",
    "df.columns"
   ]
  },
  {
   "cell_type": "code",
   "execution_count": 57,
   "metadata": {},
   "outputs": [],
   "source": [
    "#Alle Spalten-Strings in Kleinbuchstaben umwandeln\n",
    "df[\"gender\"] = df[\"gender\"].str.lower()\n",
    "df[\"item_purchased\"] = df[\"item_purchased\"].str.lower()\n",
    "df[\"category\"] = df[\"category\"].str.lower()\n",
    "df[\"location\"] = df[\"location\"].str.lower()\n",
    "df[\"color\"] = df[\"color\"].str.lower()\n",
    "df[\"season\"] = df[\"season\"].str.lower()\n",
    "df[\"subscription_status\"] = df[\"subscription_status\"].str.lower()\n",
    "df[\"shipping_type\"] = df[\"shipping_type\"].str.lower()\n",
    "df[\"discount_applied\"] = df[\"discount_applied\"].str.lower()\n",
    "df[\"promo_code_used\"] = df[\"promo_code_used\"].str.lower()\n",
    "df[\"payment_method\"] = df[\"payment_method\"].str.lower()\n",
    "df[\"frequency_of_purchases\"] = df[\"frequency_of_purchases\"].str.lower()"
   ]
  },
  {
   "cell_type": "code",
   "execution_count": 58,
   "metadata": {},
   "outputs": [
    {
     "data": {
      "text/plain": [
       "(1286, 18)"
      ]
     },
     "execution_count": 58,
     "metadata": {},
     "output_type": "execute_result"
    }
   ],
   "source": [
    "#erlaubt uns die Dimension der Tabelle zu wissen, beziehungsweise die Anzahl von Zeile und Spalten\n",
    "df.shape"
   ]
  },
  {
   "cell_type": "code",
   "execution_count": 59,
   "metadata": {},
   "outputs": [
    {
     "name": "stdout",
     "output_type": "stream",
     "text": [
      "<class 'pandas.core.frame.DataFrame'>\n",
      "RangeIndex: 1286 entries, 0 to 1285\n",
      "Data columns (total 18 columns):\n",
      " #   Column                  Non-Null Count  Dtype  \n",
      "---  ------                  --------------  -----  \n",
      " 0   customerID              1281 non-null   float64\n",
      " 1   age                     1286 non-null   int64  \n",
      " 2   gender                  1286 non-null   object \n",
      " 3   item_purchased          1286 non-null   object \n",
      " 4   category                1286 non-null   object \n",
      " 5   purchase_amountUSD      1281 non-null   float64\n",
      " 6   location                1279 non-null   object \n",
      " 7   size                    1286 non-null   object \n",
      " 8   color                   1286 non-null   object \n",
      " 9   season                  1286 non-null   object \n",
      " 10  review_rating           1286 non-null   float64\n",
      " 11  subscription_status     1286 non-null   object \n",
      " 12  shipping_type           1286 non-null   object \n",
      " 13  discount_applied        1286 non-null   object \n",
      " 14  promo_code_used         1286 non-null   object \n",
      " 15  previous_purchases      1286 non-null   int64  \n",
      " 16  payment_method          1286 non-null   object \n",
      " 17  frequency_of_purchases  1286 non-null   object \n",
      "dtypes: float64(3), int64(2), object(13)\n",
      "memory usage: 181.0+ KB\n"
     ]
    }
   ],
   "source": [
    "#Um alle information über die Datensatz anzuzeigen\n",
    "df.info()"
   ]
  },
  {
   "cell_type": "markdown",
   "metadata": {},
   "source": [
    "### Anzahl von Zeilen und Spalten"
   ]
  },
  {
   "cell_type": "code",
   "execution_count": 60,
   "metadata": {},
   "outputs": [
    {
     "name": "stdout",
     "output_type": "stream",
     "text": [
      "anzahl Zeilen:  1286\n",
      "anzahl Spalten:  18\n",
      "alles okay.\n"
     ]
    }
   ],
   "source": [
    "nZeilen = df.shape[0]\n",
    "nSpalten = df.shape[1]\n",
    "print(\"anzahl Zeilen: \", nZeilen)\n",
    "print(\"anzahl Spalten: \", nSpalten)\n",
    "\n",
    "if nZeilen == 1286 and nSpalten == 18:\n",
    "    print (\"alles okay.\")\n",
    "else:\n",
    "    print (\"Fehler: Der Datensatz hat nicht die erwartete Anzahl an zeilen oder Spalten\")"
   ]
  },
  {
   "cell_type": "code",
   "execution_count": 61,
   "metadata": {},
   "outputs": [],
   "source": [
    "## 1erste bermerkung datentyp von costumer Id ändern float in Interger\n",
    "## es stimmt nicht mit unsere Daten"
   ]
  },
  {
   "cell_type": "markdown",
   "metadata": {},
   "source": [
    "### Zählung der fehlende Werte"
   ]
  },
  {
   "cell_type": "markdown",
   "metadata": {},
   "source": [
    "#### wir zählen die Anzahl der Fehlende Werte Pro Variable"
   ]
  },
  {
   "cell_type": "code",
   "execution_count": 62,
   "metadata": {},
   "outputs": [
    {
     "data": {
      "text/plain": [
       "customerID                5\n",
       "age                       0\n",
       "gender                    0\n",
       "item_purchased            0\n",
       "category                  0\n",
       "purchase_amountUSD        5\n",
       "location                  7\n",
       "size                      0\n",
       "color                     0\n",
       "season                    0\n",
       "review_rating             0\n",
       "subscription_status       0\n",
       "shipping_type             0\n",
       "discount_applied          0\n",
       "promo_code_used           0\n",
       "previous_purchases        0\n",
       "payment_method            0\n",
       "frequency_of_purchases    0\n",
       "dtype: int64"
      ]
     },
     "execution_count": 62,
     "metadata": {},
     "output_type": "execute_result"
    }
   ],
   "source": [
    "# Überprüfung auf fehlende Werte\n",
    "df.isnull().sum()"
   ]
  },
  {
   "cell_type": "code",
   "execution_count": 63,
   "metadata": {},
   "outputs": [
    {
     "data": {
      "text/plain": [
       "customerID                0.388802\n",
       "age                       0.000000\n",
       "gender                    0.000000\n",
       "item_purchased            0.000000\n",
       "category                  0.000000\n",
       "purchase_amountUSD        0.388802\n",
       "location                  0.544323\n",
       "size                      0.000000\n",
       "color                     0.000000\n",
       "season                    0.000000\n",
       "review_rating             0.000000\n",
       "subscription_status       0.000000\n",
       "shipping_type             0.000000\n",
       "discount_applied          0.000000\n",
       "promo_code_used           0.000000\n",
       "previous_purchases        0.000000\n",
       "payment_method            0.000000\n",
       "frequency_of_purchases    0.000000\n",
       "dtype: float64"
      ]
     },
     "execution_count": 63,
     "metadata": {},
     "output_type": "execute_result"
    }
   ],
   "source": [
    "# Relativer Anteil der Fehlwerte je Spalte\n",
    "df.isnull().sum() / len(df) * 100"
   ]
  },
  {
   "cell_type": "markdown",
   "metadata": {},
   "source": [
    "Die meisten Variablen haben keine Fehlwerte. Lediglich für die Variablen `CustomerID`, `Location` und `PurchaseAmountUSD` gibt es jeweils zwei Fehlwerte, was 13 % der Daten entspricht."
   ]
  },
  {
   "cell_type": "markdown",
   "metadata": {},
   "source": [
    "# **Bereinigung des Datensatzes**"
   ]
  },
  {
   "cell_type": "markdown",
   "metadata": {},
   "source": [
    "## Fehlwerte entfernen"
   ]
  },
  {
   "cell_type": "markdown",
   "metadata": {},
   "source": [
    "## **Fehlwerte imputieren**"
   ]
  },
  {
   "cell_type": "markdown",
   "metadata": {},
   "source": [
    "### Prüfe und Bereinigung der Spalte purchase_amountUSD"
   ]
  },
  {
   "cell_type": "code",
   "execution_count": 64,
   "metadata": {},
   "outputs": [
    {
     "name": "stdout",
     "output_type": "stream",
     "text": [
      "Warnung: Ungültige Werte für 'purchase_amountUSD' gefunden\n"
     ]
    }
   ],
   "source": [
    "# Prüfe das amount auf valide Werte\n",
    "amount = \"purchase_amountUSD\"\n",
    "\n",
    "if df[amount].dropna().between(1, 500).all():\n",
    "    print(f\"Info: Alles in Ordnung für '{amount}'\")\n",
    "else:\n",
    "      print(f\"Warnung: Ungültige Werte für '{amount}' gefunden\")"
   ]
  },
  {
   "cell_type": "code",
   "execution_count": 65,
   "metadata": {},
   "outputs": [
    {
     "data": {
      "text/html": [
       "<div>\n",
       "<style scoped>\n",
       "    .dataframe tbody tr th:only-of-type {\n",
       "        vertical-align: middle;\n",
       "    }\n",
       "\n",
       "    .dataframe tbody tr th {\n",
       "        vertical-align: top;\n",
       "    }\n",
       "\n",
       "    .dataframe thead th {\n",
       "        text-align: right;\n",
       "    }\n",
       "</style>\n",
       "<table border=\"1\" class=\"dataframe\">\n",
       "  <thead>\n",
       "    <tr style=\"text-align: right;\">\n",
       "      <th></th>\n",
       "      <th>customerID</th>\n",
       "      <th>age</th>\n",
       "      <th>gender</th>\n",
       "      <th>item_purchased</th>\n",
       "      <th>category</th>\n",
       "      <th>purchase_amountUSD</th>\n",
       "      <th>location</th>\n",
       "      <th>size</th>\n",
       "      <th>color</th>\n",
       "      <th>season</th>\n",
       "      <th>review_rating</th>\n",
       "      <th>subscription_status</th>\n",
       "      <th>shipping_type</th>\n",
       "      <th>discount_applied</th>\n",
       "      <th>promo_code_used</th>\n",
       "      <th>previous_purchases</th>\n",
       "      <th>payment_method</th>\n",
       "      <th>frequency_of_purchases</th>\n",
       "    </tr>\n",
       "  </thead>\n",
       "  <tbody>\n",
       "    <tr>\n",
       "      <th>100</th>\n",
       "      <td>297.0</td>\n",
       "      <td>25</td>\n",
       "      <td>male</td>\n",
       "      <td>sandals</td>\n",
       "      <td>footwear</td>\n",
       "      <td>74.0</td>\n",
       "      <td>indiana</td>\n",
       "      <td>S</td>\n",
       "      <td>lavender</td>\n",
       "      <td>spring</td>\n",
       "      <td>4.8</td>\n",
       "      <td>yes</td>\n",
       "      <td>2-day shipping</td>\n",
       "      <td>yes</td>\n",
       "      <td>yes</td>\n",
       "      <td>19</td>\n",
       "      <td>credit card</td>\n",
       "      <td>weekly</td>\n",
       "    </tr>\n",
       "    <tr>\n",
       "      <th>101</th>\n",
       "      <td>300.0</td>\n",
       "      <td>25</td>\n",
       "      <td>male</td>\n",
       "      <td>sneakers</td>\n",
       "      <td>footwear</td>\n",
       "      <td>80.0</td>\n",
       "      <td>pennsylvania</td>\n",
       "      <td>M</td>\n",
       "      <td>maroon</td>\n",
       "      <td>summer</td>\n",
       "      <td>3.2</td>\n",
       "      <td>yes</td>\n",
       "      <td>next day air</td>\n",
       "      <td>yes</td>\n",
       "      <td>yes</td>\n",
       "      <td>28</td>\n",
       "      <td>paypal</td>\n",
       "      <td>fortnightly</td>\n",
       "    </tr>\n",
       "    <tr>\n",
       "      <th>102</th>\n",
       "      <td>301.0</td>\n",
       "      <td>29</td>\n",
       "      <td>male</td>\n",
       "      <td>hat</td>\n",
       "      <td>accessories</td>\n",
       "      <td>98.0</td>\n",
       "      <td>iowa</td>\n",
       "      <td>M</td>\n",
       "      <td>teal</td>\n",
       "      <td>spring</td>\n",
       "      <td>4.4</td>\n",
       "      <td>yes</td>\n",
       "      <td>store pickup</td>\n",
       "      <td>yes</td>\n",
       "      <td>yes</td>\n",
       "      <td>24</td>\n",
       "      <td>paypal</td>\n",
       "      <td>weekly</td>\n",
       "    </tr>\n",
       "    <tr>\n",
       "      <th>103</th>\n",
       "      <td>303.0</td>\n",
       "      <td>37</td>\n",
       "      <td>male</td>\n",
       "      <td>sweater</td>\n",
       "      <td>clothing</td>\n",
       "      <td>59.0</td>\n",
       "      <td>delaware</td>\n",
       "      <td>L</td>\n",
       "      <td>olive</td>\n",
       "      <td>summer</td>\n",
       "      <td>3.6</td>\n",
       "      <td>yes</td>\n",
       "      <td>express</td>\n",
       "      <td>yes</td>\n",
       "      <td>yes</td>\n",
       "      <td>27</td>\n",
       "      <td>bank transfer</td>\n",
       "      <td>every 3 months</td>\n",
       "    </tr>\n",
       "    <tr>\n",
       "      <th>104</th>\n",
       "      <td>304.0</td>\n",
       "      <td>20</td>\n",
       "      <td>male</td>\n",
       "      <td>sandals</td>\n",
       "      <td>footwear</td>\n",
       "      <td>60.0</td>\n",
       "      <td>oregon</td>\n",
       "      <td>M</td>\n",
       "      <td>turquoise</td>\n",
       "      <td>summer</td>\n",
       "      <td>3.3</td>\n",
       "      <td>yes</td>\n",
       "      <td>next day air</td>\n",
       "      <td>yes</td>\n",
       "      <td>yes</td>\n",
       "      <td>49</td>\n",
       "      <td>venmo</td>\n",
       "      <td>weekly</td>\n",
       "    </tr>\n",
       "    <tr>\n",
       "      <th>105</th>\n",
       "      <td>313.0</td>\n",
       "      <td>38</td>\n",
       "      <td>male</td>\n",
       "      <td>pants</td>\n",
       "      <td>clothing</td>\n",
       "      <td>89.0</td>\n",
       "      <td>massachusetts</td>\n",
       "      <td>L</td>\n",
       "      <td>green</td>\n",
       "      <td>spring</td>\n",
       "      <td>3.4</td>\n",
       "      <td>yes</td>\n",
       "      <td>next day air</td>\n",
       "      <td>yes</td>\n",
       "      <td>yes</td>\n",
       "      <td>6</td>\n",
       "      <td>paypal</td>\n",
       "      <td>annually</td>\n",
       "    </tr>\n",
       "  </tbody>\n",
       "</table>\n",
       "</div>"
      ],
      "text/plain": [
       "     customerID  age gender item_purchased     category  purchase_amountUSD  \\\n",
       "100       297.0   25   male        sandals     footwear                74.0   \n",
       "101       300.0   25   male       sneakers     footwear                80.0   \n",
       "102       301.0   29   male            hat  accessories                98.0   \n",
       "103       303.0   37   male        sweater     clothing                59.0   \n",
       "104       304.0   20   male        sandals     footwear                60.0   \n",
       "105       313.0   38   male          pants     clothing                89.0   \n",
       "\n",
       "          location size      color  season  review_rating subscription_status  \\\n",
       "100        indiana    S   lavender  spring            4.8                 yes   \n",
       "101   pennsylvania    M     maroon  summer            3.2                 yes   \n",
       "102           iowa    M       teal  spring            4.4                 yes   \n",
       "103       delaware    L      olive  summer            3.6                 yes   \n",
       "104         oregon    M  turquoise  summer            3.3                 yes   \n",
       "105  massachusetts    L      green  spring            3.4                 yes   \n",
       "\n",
       "      shipping_type discount_applied promo_code_used  previous_purchases  \\\n",
       "100  2-day shipping              yes             yes                  19   \n",
       "101    next day air              yes             yes                  28   \n",
       "102    store pickup              yes             yes                  24   \n",
       "103         express              yes             yes                  27   \n",
       "104    next day air              yes             yes                  49   \n",
       "105    next day air              yes             yes                   6   \n",
       "\n",
       "    payment_method frequency_of_purchases  \n",
       "100    credit card                 weekly  \n",
       "101         paypal            fortnightly  \n",
       "102         paypal                 weekly  \n",
       "103  bank transfer         every 3 months  \n",
       "104          venmo                 weekly  \n",
       "105         paypal               annually  "
      ]
     },
     "execution_count": 65,
     "metadata": {},
     "output_type": "execute_result"
    }
   ],
   "source": [
    "purchase_amountUSD_median = df[\"purchase_amountUSD\"].median()\n",
    "\n",
    "# Ersetzen der fehlenden Werte von PurchaseAmountUSD durch den Median\n",
    "df['purchase_amountUSD'] = df['purchase_amountUSD'].fillna(purchase_amountUSD_median)\n",
    "\n",
    "# Anzeigen des neuen DataFrame mit den ersetzten fehlenden Werten\n",
    "df.iloc[100:106]\n"
   ]
  },
  {
   "cell_type": "code",
   "execution_count": 66,
   "metadata": {},
   "outputs": [
    {
     "name": "stdout",
     "output_type": "stream",
     "text": [
      "Ungültige Werte für 'purchase_amountUSD':\n",
      "22     -821.0\n",
      "53     -761.0\n",
      "319    -334.0\n",
      "401    -401.0\n",
      "816    -163.0\n",
      "842    -993.0\n",
      "866    -174.0\n",
      "904    -830.0\n",
      "905    -511.0\n",
      "1096   -916.0\n",
      "1244   -751.0\n",
      "1269   -104.0\n",
      "Name: purchase_amountUSD, dtype: float64\n"
     ]
    }
   ],
   "source": [
    "# Wählen Sie die Werte aus der Spalte 'PurchaseAmountUSD' aus, die nicht zwischen 1 und 1500 liegen\n",
    "invalid_values = df[(df[amount].isnull()) | (~df[amount].between(1, 1500))][amount]\n",
    "\n",
    "# Anzeigen der ungültigen Werte\n",
    "print(\"Ungültige Werte für 'purchase_amountUSD':\")\n",
    "print(invalid_values)"
   ]
  },
  {
   "cell_type": "code",
   "execution_count": 67,
   "metadata": {},
   "outputs": [
    {
     "name": "stdout",
     "output_type": "stream",
     "text": [
      "Info: Alles in Ordnung für 'purchase_amountUSD'\n"
     ]
    }
   ],
   "source": [
    "# fehlerhafte Werte das Alter bereinigen\n",
    "#df[\"PurchaseAmountUSD\"].replace(\n",
    "#    {\n",
    "#        -821: 821,\n",
    "#        -761: 761,\n",
    "#        -334: 334,\n",
    "#        -401: 401,\n",
    "#        -163: 163,\n",
    "#       -993: 993,\n",
    "#        -174: 174,\n",
    "#       -830: 830,\n",
    "#        -511: 511,\n",
    "#       -916: 916,\n",
    "#        -751: 751,\n",
    "#        -104: 104,\n",
    "#    },\n",
    "#    inplace=True,\n",
    "#)\n",
    "df['purchase_amountUSD'] = df['purchase_amountUSD'].apply(lambda x :abs(x))\n",
    "# Prüfe das Alter auf valide Werte\n",
    "if df[amount].dropna().between(1, 1000).all():\n",
    "    print(f\"Info: Alles in Ordnung für '{amount}'\")\n",
    "else:\n",
    "    print(f\"Warnung: Ungültige Werte für '{amount}' gefunden\")"
   ]
  },
  {
   "cell_type": "markdown",
   "metadata": {},
   "source": [
    "### Prüfe und Bereinigung der Spalte Alter"
   ]
  },
  {
   "cell_type": "code",
   "execution_count": 68,
   "metadata": {},
   "outputs": [
    {
     "name": "stdout",
     "output_type": "stream",
     "text": [
      "Warnung: Ungültige Werte für 'age' gefunden\n"
     ]
    }
   ],
   "source": [
    "# Prüfe das Alter auf valide Werte\n",
    "alter = \"age\"\n",
    "\n",
    "if df[alter].dropna().between(1, 100).all():\n",
    "    print(f\"Info: Alles in Ordnung für '{alter}'\")\n",
    "else:\n",
    "    print(f\"Warnung: Ungültige Werte für '{alter}' gefunden\")"
   ]
  },
  {
   "cell_type": "code",
   "execution_count": 69,
   "metadata": {},
   "outputs": [
    {
     "name": "stdout",
     "output_type": "stream",
     "text": [
      "Ungültige Werte für 'age':\n",
      "45     -57\n",
      "258    -23\n",
      "321    -43\n",
      "345    -18\n",
      "637    -65\n",
      "734    -58\n",
      "837    -60\n",
      "946    -56\n",
      "1164   -50\n",
      "1251   -40\n",
      "Name: age, dtype: int64\n"
     ]
    }
   ],
   "source": [
    "# Wählen Sie die Werte aus der Spalte 'Age' aus, die nicht position sind\n",
    "invalid_values = df[(df[alter].isnull()) | (~df[alter].between(1, 100))][alter]\n",
    "\n",
    "# Anzeigen der ungültigen Werte\n",
    "print(\"Ungültige Werte für 'age':\")\n",
    "print(invalid_values)"
   ]
  },
  {
   "cell_type": "code",
   "execution_count": 70,
   "metadata": {},
   "outputs": [
    {
     "name": "stdout",
     "output_type": "stream",
     "text": [
      "Info: Alles in Ordnung für 'age'\n"
     ]
    }
   ],
   "source": [
    "\n",
    "# Verwendung von absolute Werten \n",
    "df['age'] = df['age'].apply(lambda x :abs(x))\n",
    "# Prüfe das Alter auf valide Werte\n",
    "if df[alter].dropna().between(1, 100).all():\n",
    "    print(f\"Info: Alles in Ordnung für '{alter}'\")\n",
    "else:\n",
    "    print(f\"Warnung: Ungültige Werte für '{alter}' gefunden\")"
   ]
  },
  {
   "cell_type": "markdown",
   "metadata": {},
   "source": [
    "### Prüfe und Bereinigung der Spalte ReviewRating"
   ]
  },
  {
   "cell_type": "code",
   "execution_count": 71,
   "metadata": {},
   "outputs": [
    {
     "name": "stdout",
     "output_type": "stream",
     "text": [
      "Warnung: Ungültige Werte für 'review_rating' gefunden\n"
     ]
    }
   ],
   "source": [
    "# Prüfe das ReviewRating auf valide Werte\n",
    "Bewertung = \"review_rating\"\n",
    "\n",
    "if df[Bewertung].dropna().between(0, 5).all():\n",
    "    print(f\"Info: Alles in Ordnung für '{Bewertung}'\")\n",
    "else:\n",
    "    print(f\"Warnung: Ungültige Werte für '{Bewertung}' gefunden\")"
   ]
  },
  {
   "cell_type": "code",
   "execution_count": 72,
   "metadata": {},
   "outputs": [
    {
     "name": "stdout",
     "output_type": "stream",
     "text": [
      "Info: Alles in Ordnung für 'review_rating'\n"
     ]
    }
   ],
   "source": [
    "# fehlerhafte Werte für das ReviewRating bereinigen\n",
    "\n",
    "df['review_rating'] = df['review_rating'].apply(lambda x :abs(x))\n",
    "\n",
    "# Prüfe das Alter auf valide Werte\n",
    "if df[Bewertung].dropna().between(1, 5).all():\n",
    "    print(f\"Info: Alles in Ordnung für '{Bewertung}'\")\n",
    "else:\n",
    "    print(f\"Warnung: Ungültige Werte für '{Bewertung}' gefunden\")"
   ]
  },
  {
   "cell_type": "markdown",
   "metadata": {},
   "source": [
    "### Prüfe und Bereinigung der Spalte CustomerID"
   ]
  },
  {
   "cell_type": "markdown",
   "metadata": {},
   "source": [
    "#### Zeilen mit fehlenden CustomerID löschen\n"
   ]
  },
  {
   "cell_type": "code",
   "execution_count": 73,
   "metadata": {},
   "outputs": [],
   "source": [
    "df.dropna(subset=['customerID'], inplace=True)"
   ]
  },
  {
   "cell_type": "code",
   "execution_count": 74,
   "metadata": {},
   "outputs": [
    {
     "data": {
      "text/plain": [
       "customerID                0\n",
       "age                       0\n",
       "gender                    0\n",
       "item_purchased            0\n",
       "category                  0\n",
       "purchase_amountUSD        0\n",
       "location                  7\n",
       "size                      0\n",
       "color                     0\n",
       "season                    0\n",
       "review_rating             0\n",
       "subscription_status       0\n",
       "shipping_type             0\n",
       "discount_applied          0\n",
       "promo_code_used           0\n",
       "previous_purchases        0\n",
       "payment_method            0\n",
       "frequency_of_purchases    0\n",
       "dtype: int64"
      ]
     },
     "execution_count": 74,
     "metadata": {},
     "output_type": "execute_result"
    }
   ],
   "source": [
    "df.isnull().sum()"
   ]
  },
  {
   "cell_type": "markdown",
   "metadata": {},
   "source": [
    "### fehlerhafte Werte der Spalte Location"
   ]
  },
  {
   "cell_type": "code",
   "execution_count": 75,
   "metadata": {},
   "outputs": [
    {
     "data": {
      "text/html": [
       "<div>\n",
       "<style scoped>\n",
       "    .dataframe tbody tr th:only-of-type {\n",
       "        vertical-align: middle;\n",
       "    }\n",
       "\n",
       "    .dataframe tbody tr th {\n",
       "        vertical-align: top;\n",
       "    }\n",
       "\n",
       "    .dataframe thead th {\n",
       "        text-align: right;\n",
       "    }\n",
       "</style>\n",
       "<table border=\"1\" class=\"dataframe\">\n",
       "  <thead>\n",
       "    <tr style=\"text-align: right;\">\n",
       "      <th></th>\n",
       "      <th>customerID</th>\n",
       "      <th>age</th>\n",
       "      <th>gender</th>\n",
       "      <th>item_purchased</th>\n",
       "      <th>category</th>\n",
       "      <th>purchase_amountUSD</th>\n",
       "      <th>location</th>\n",
       "      <th>size</th>\n",
       "      <th>color</th>\n",
       "      <th>season</th>\n",
       "      <th>review_rating</th>\n",
       "      <th>subscription_status</th>\n",
       "      <th>shipping_type</th>\n",
       "      <th>discount_applied</th>\n",
       "      <th>promo_code_used</th>\n",
       "      <th>previous_purchases</th>\n",
       "      <th>payment_method</th>\n",
       "      <th>frequency_of_purchases</th>\n",
       "    </tr>\n",
       "  </thead>\n",
       "  <tbody>\n",
       "    <tr>\n",
       "      <th>214</th>\n",
       "      <td>647.0</td>\n",
       "      <td>51</td>\n",
       "      <td>male</td>\n",
       "      <td>boots</td>\n",
       "      <td>footwear</td>\n",
       "      <td>54.0</td>\n",
       "      <td>indiana</td>\n",
       "      <td>XL</td>\n",
       "      <td>pink</td>\n",
       "      <td>spring</td>\n",
       "      <td>4.9</td>\n",
       "      <td>yes</td>\n",
       "      <td>standard</td>\n",
       "      <td>yes</td>\n",
       "      <td>yes</td>\n",
       "      <td>19</td>\n",
       "      <td>venmo</td>\n",
       "      <td>bi-weekly</td>\n",
       "    </tr>\n",
       "    <tr>\n",
       "      <th>215</th>\n",
       "      <td>650.0</td>\n",
       "      <td>53</td>\n",
       "      <td>male</td>\n",
       "      <td>pants</td>\n",
       "      <td>clothing</td>\n",
       "      <td>93.0</td>\n",
       "      <td>delaware</td>\n",
       "      <td>L</td>\n",
       "      <td>orange</td>\n",
       "      <td>spring</td>\n",
       "      <td>4.2</td>\n",
       "      <td>yes</td>\n",
       "      <td>store pickup</td>\n",
       "      <td>yes</td>\n",
       "      <td>yes</td>\n",
       "      <td>33</td>\n",
       "      <td>paypal</td>\n",
       "      <td>every 3 months</td>\n",
       "    </tr>\n",
       "    <tr>\n",
       "      <th>216</th>\n",
       "      <td>653.0</td>\n",
       "      <td>64</td>\n",
       "      <td>male</td>\n",
       "      <td>sunglasses</td>\n",
       "      <td>accessories</td>\n",
       "      <td>27.0</td>\n",
       "      <td>alabama</td>\n",
       "      <td>M</td>\n",
       "      <td>beige</td>\n",
       "      <td>winter</td>\n",
       "      <td>3.1</td>\n",
       "      <td>yes</td>\n",
       "      <td>free shipping</td>\n",
       "      <td>yes</td>\n",
       "      <td>yes</td>\n",
       "      <td>27</td>\n",
       "      <td>venmo</td>\n",
       "      <td>weekly</td>\n",
       "    </tr>\n",
       "    <tr>\n",
       "      <th>217</th>\n",
       "      <td>654.0</td>\n",
       "      <td>20</td>\n",
       "      <td>male</td>\n",
       "      <td>scarf</td>\n",
       "      <td>accessories</td>\n",
       "      <td>68.0</td>\n",
       "      <td>north dakota</td>\n",
       "      <td>M</td>\n",
       "      <td>olive</td>\n",
       "      <td>winter</td>\n",
       "      <td>3.6</td>\n",
       "      <td>yes</td>\n",
       "      <td>2-day shipping</td>\n",
       "      <td>yes</td>\n",
       "      <td>yes</td>\n",
       "      <td>45</td>\n",
       "      <td>cash</td>\n",
       "      <td>fortnightly</td>\n",
       "    </tr>\n",
       "    <tr>\n",
       "      <th>218</th>\n",
       "      <td>660.0</td>\n",
       "      <td>62</td>\n",
       "      <td>male</td>\n",
       "      <td>shorts</td>\n",
       "      <td>clothing</td>\n",
       "      <td>52.0</td>\n",
       "      <td>virginia</td>\n",
       "      <td>S</td>\n",
       "      <td>gold</td>\n",
       "      <td>spring</td>\n",
       "      <td>3.6</td>\n",
       "      <td>yes</td>\n",
       "      <td>2-day shipping</td>\n",
       "      <td>yes</td>\n",
       "      <td>yes</td>\n",
       "      <td>8</td>\n",
       "      <td>cash</td>\n",
       "      <td>weekly</td>\n",
       "    </tr>\n",
       "  </tbody>\n",
       "</table>\n",
       "</div>"
      ],
      "text/plain": [
       "     customerID  age gender item_purchased     category  purchase_amountUSD  \\\n",
       "214       647.0   51   male          boots     footwear                54.0   \n",
       "215       650.0   53   male          pants     clothing                93.0   \n",
       "216       653.0   64   male     sunglasses  accessories                27.0   \n",
       "217       654.0   20   male          scarf  accessories                68.0   \n",
       "218       660.0   62   male         shorts     clothing                52.0   \n",
       "\n",
       "         location size   color  season  review_rating subscription_status  \\\n",
       "214       indiana   XL    pink  spring            4.9                 yes   \n",
       "215      delaware    L  orange  spring            4.2                 yes   \n",
       "216       alabama    M   beige  winter            3.1                 yes   \n",
       "217  north dakota    M   olive  winter            3.6                 yes   \n",
       "218      virginia    S    gold  spring            3.6                 yes   \n",
       "\n",
       "      shipping_type discount_applied promo_code_used  previous_purchases  \\\n",
       "214        standard              yes             yes                  19   \n",
       "215    store pickup              yes             yes                  33   \n",
       "216   free shipping              yes             yes                  27   \n",
       "217  2-day shipping              yes             yes                  45   \n",
       "218  2-day shipping              yes             yes                   8   \n",
       "\n",
       "    payment_method frequency_of_purchases  \n",
       "214          venmo              bi-weekly  \n",
       "215         paypal         every 3 months  \n",
       "216          venmo                 weekly  \n",
       "217           cash            fortnightly  \n",
       "218           cash                 weekly  "
      ]
     },
     "execution_count": 75,
     "metadata": {},
     "output_type": "execute_result"
    }
   ],
   "source": [
    "häufigster_wert = df[\"location\"].mode()[0]\n",
    "# Ersetzen der fehlenden Werte von Location durch den häufigster_wert\n",
    "df['location'] = df['location'].fillna(häufigster_wert)\n",
    "df.loc[214:218]"
   ]
  },
  {
   "cell_type": "code",
   "execution_count": 76,
   "metadata": {},
   "outputs": [
    {
     "data": {
      "text/plain": [
       "customerID                0\n",
       "age                       0\n",
       "gender                    0\n",
       "item_purchased            0\n",
       "category                  0\n",
       "purchase_amountUSD        0\n",
       "location                  0\n",
       "size                      0\n",
       "color                     0\n",
       "season                    0\n",
       "review_rating             0\n",
       "subscription_status       0\n",
       "shipping_type             0\n",
       "discount_applied          0\n",
       "promo_code_used           0\n",
       "previous_purchases        0\n",
       "payment_method            0\n",
       "frequency_of_purchases    0\n",
       "dtype: int64"
      ]
     },
     "execution_count": 76,
     "metadata": {},
     "output_type": "execute_result"
    }
   ],
   "source": [
    "df.isnull().sum()"
   ]
  },
  {
   "cell_type": "markdown",
   "metadata": {},
   "source": [
    "## ici jai juste un beispiel que je fais :)"
   ]
  },
  {
   "cell_type": "code",
   "execution_count": 77,
   "metadata": {},
   "outputs": [
    {
     "data": {
      "image/png": "[encoded data removed]",
      "text/plain": [
       "<Figure size 640x480 with 1 Axes>"
      ]
     },
     "metadata": {},
     "output_type": "display_data"
    }
   ],
   "source": [
    "# Gruppierung nach Geschlecht und Zählen der Einkäufe in der Kategorie \"Kleidung\"\n",
    "gender_preference = df.groupby('gender')['category'].apply(lambda x: (x == 'clothing').sum())\n",
    "\n",
    "# Balkendiagramm erstellen\n",
    "plt.bar(gender_preference.index, gender_preference.values)\n",
    "\n",
    "# Titel und Achsenbeschriftungen hinzufügen\n",
    "plt.title(\"Verteilung der Kleidungskäufe nach Geschlecht\")\n",
    "plt.xlabel(\"Geschlecht\")\n",
    "plt.ylabel(\"Anzahl der Käufe von Kleidung\")\n",
    "\n",
    "# Diagramm anzeigen\n",
    "plt.show()"
   ]
  },
  {
   "cell_type": "markdown",
   "metadata": {},
   "source": [
    "## es fällt auf, dass Männer mehr kaufen als Frauen"
   ]
  },
  {
   "cell_type": "markdown",
   "metadata": {},
   "source": [
    "Das Balkendiagramm eignet sich gut, um die Hypothese über die Vorliebe von Frauen für den Kauf von Kleidung zu demonstrieren. Es ermöglicht einen direkten Vergleich der Kaufhäufigkeit zwischen den Geschlechtern auf eine klare und leicht verständliche Weise."
   ]
  },
  {
   "cell_type": "code",
   "execution_count": 78,
   "metadata": {},
   "outputs": [
    {
     "name": "stdout",
     "output_type": "stream",
     "text": [
      "Test de Chi carré - p-valeur: 0.9002074004198064\n"
     ]
    }
   ],
   "source": [
    "# Test de chi carré pour déterminer l'association entre le sexe et l'achat de vêtements\n",
    "contingency_table = pd.crosstab(df['gender'], df['category'] == 'clothing')\n",
    "chi2, p, _, _ = chi2_contingency(contingency_table)\n",
    "print(\"Test de Chi carré - p-valeur:\", p)"
   ]
  },
  {
   "cell_type": "code",
   "execution_count": 79,
   "metadata": {},
   "outputs": [
    {
     "data": {
      "text/html": [
       "<div>\n",
       "<style scoped>\n",
       "    .dataframe tbody tr th:only-of-type {\n",
       "        vertical-align: middle;\n",
       "    }\n",
       "\n",
       "    .dataframe tbody tr th {\n",
       "        vertical-align: top;\n",
       "    }\n",
       "\n",
       "    .dataframe thead th {\n",
       "        text-align: right;\n",
       "    }\n",
       "</style>\n",
       "<table border=\"1\" class=\"dataframe\">\n",
       "  <thead>\n",
       "    <tr style=\"text-align: right;\">\n",
       "      <th></th>\n",
       "      <th>customerID</th>\n",
       "      <th>age</th>\n",
       "      <th>gender</th>\n",
       "      <th>item_purchased</th>\n",
       "      <th>category</th>\n",
       "      <th>purchase_amountUSD</th>\n",
       "      <th>location</th>\n",
       "      <th>size</th>\n",
       "      <th>color</th>\n",
       "      <th>season</th>\n",
       "      <th>review_rating</th>\n",
       "      <th>subscription_status</th>\n",
       "      <th>shipping_type</th>\n",
       "      <th>discount_applied</th>\n",
       "      <th>promo_code_used</th>\n",
       "      <th>previous_purchases</th>\n",
       "      <th>payment_method</th>\n",
       "      <th>frequency_of_purchases</th>\n",
       "    </tr>\n",
       "  </thead>\n",
       "  <tbody>\n",
       "    <tr>\n",
       "      <th>0</th>\n",
       "      <td>1.0</td>\n",
       "      <td>55</td>\n",
       "      <td>male</td>\n",
       "      <td>blouse</td>\n",
       "      <td>clothing</td>\n",
       "      <td>53.0</td>\n",
       "      <td>kentucky</td>\n",
       "      <td>L</td>\n",
       "      <td>gray</td>\n",
       "      <td>winter</td>\n",
       "      <td>3.1</td>\n",
       "      <td>yes</td>\n",
       "      <td>express</td>\n",
       "      <td>yes</td>\n",
       "      <td>yes</td>\n",
       "      <td>14</td>\n",
       "      <td>venmo</td>\n",
       "      <td>fortnightly</td>\n",
       "    </tr>\n",
       "    <tr>\n",
       "      <th>1</th>\n",
       "      <td>2.0</td>\n",
       "      <td>19</td>\n",
       "      <td>male</td>\n",
       "      <td>sweater</td>\n",
       "      <td>clothing</td>\n",
       "      <td>64.0</td>\n",
       "      <td>maine</td>\n",
       "      <td>L</td>\n",
       "      <td>maroon</td>\n",
       "      <td>winter</td>\n",
       "      <td>3.1</td>\n",
       "      <td>yes</td>\n",
       "      <td>express</td>\n",
       "      <td>yes</td>\n",
       "      <td>yes</td>\n",
       "      <td>2</td>\n",
       "      <td>cash</td>\n",
       "      <td>fortnightly</td>\n",
       "    </tr>\n",
       "  </tbody>\n",
       "</table>\n",
       "</div>"
      ],
      "text/plain": [
       "   customerID  age gender item_purchased  category  purchase_amountUSD  \\\n",
       "0         1.0   55   male         blouse  clothing                53.0   \n",
       "1         2.0   19   male        sweater  clothing                64.0   \n",
       "\n",
       "   location size   color  season  review_rating subscription_status  \\\n",
       "0  kentucky    L    gray  winter            3.1                 yes   \n",
       "1     maine    L  maroon  winter            3.1                 yes   \n",
       "\n",
       "  shipping_type discount_applied promo_code_used  previous_purchases  \\\n",
       "0       express              yes             yes                  14   \n",
       "1       express              yes             yes                   2   \n",
       "\n",
       "  payment_method frequency_of_purchases  \n",
       "0          venmo            fortnightly  \n",
       "1           cash            fortnightly  "
      ]
     },
     "execution_count": 79,
     "metadata": {},
     "output_type": "execute_result"
    }
   ],
   "source": [
    "df.head(2)"
   ]
  },
  {
   "cell_type": "markdown",
   "metadata": {},
   "source": [
    "Männer, die von Aktionsrabatten profitieren, geben tendenziell mehr aus als Kunden, die keine Rabatte erhalten."
   ]
  },
  {
   "cell_type": "code",
   "execution_count": 81,
   "metadata": {},
   "outputs": [
    {
     "data": {
      "image/png": "[encoded data removed]",
      "text/plain": [
       "<Figure size 640x480 with 1 Axes>"
      ]
     },
     "metadata": {},
     "output_type": "display_data"
    }
   ],
   "source": [
    "# Boxplot erstellen\n",
    "sns.boxplot(x='discount_applied', y='purchase_amountUSD', hue='gender', data=df)\n",
    "\n",
    "# Titel und Achsenbeschriftungen hinzufügen\n",
    "plt.title(\"Kaufbetrag in Abhängigkeit von Rabatten und Geschlecht\")\n",
    "plt.xlabel(\"Rabatt angewendet\")\n",
    "plt.ylabel(\"Kaufbetrag (USD)\")\n",
    "\n",
    "# Legende hinzufügen\n",
    "plt.legend(title='Geschlecht')\n",
    "\n",
    "## Diagramm anzeigen\n",
    "plt.show()\n"
   ]
  },
  {
   "cell_type": "markdown",
   "metadata": {},
   "source": [
    "\n",
    "Ein Boxplot eignet sich gut, um die Hypothese über höhere Ausgaben von Kunden mit angewendeten Rabatten zu demonstrieren, da er eine klare Vergleichsmöglichkeit der Kaufbeträge zwischen Kunden mit und ohne Rabatte bietet und Ausreißer leicht identifiziert werden können."
   ]
  }
 ],
 "metadata": {
  "kernelspec": {
   "display_name": "base",
   "language": "python",
   "name": "python3"
  },
  "language_info": {
   "codemirror_mode": {
    "name": "ipython",
    "version": 3
   },
   "file_extension": ".py",
   "mimetype": "text/x-python",
   "name": "python",
   "nbconvert_exporter": "python",
   "pygments_lexer": "ipython3",
   "version": "3.10.13"
  }
 },
 "nbformat": 4,
 "nbformat_minor": 2
}
